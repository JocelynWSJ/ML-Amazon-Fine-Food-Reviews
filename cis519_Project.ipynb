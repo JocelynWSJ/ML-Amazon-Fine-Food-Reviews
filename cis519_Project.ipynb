{
  "nbformat": 4,
  "nbformat_minor": 0,
  "metadata": {
    "colab": {
      "name": " cis519_Project.ipynb",
      "provenance": [],
      "collapsed_sections": [],
      "toc_visible": true,
      "include_colab_link": true
    },
    "kernelspec": {
      "name": "python3",
      "display_name": "Python 3"
    },
    "language_info": {
      "name": "python"
    },
    "accelerator": "GPU"
  },
  "cells": [
    {
      "cell_type": "markdown",
      "metadata": {
        "id": "view-in-github",
        "colab_type": "text"
      },
      "source": [
        "<a href=\"https://colab.research.google.com/github/JocelynWSJ/ML-Amazon-Fine-Food-Reviews/blob/main/cis519_Project.ipynb\" target=\"_parent\"><img src=\"https://colab.research.google.com/assets/colab-badge.svg\" alt=\"Open In Colab\"/></a>"
      ]
    },
    {
      "cell_type": "markdown",
      "metadata": {
        "id": "gtfiePPZxPXY"
      },
      "source": [
        "#Part0 - Setting"
      ]
    },
    {
      "cell_type": "code",
      "metadata": {
        "colab": {
          "base_uri": "https://localhost:8080/"
        },
        "id": "cgHo3yjexQvP",
        "outputId": "a522a737-c6be-45f9-e89c-c5cb0fd7334b"
      },
      "source": [
        "from google.colab import drive \n",
        "drive.mount('/content/drive')\n",
        "%cd /content/drive/Shareddrives/cis519_project"
      ],
      "execution_count": null,
      "outputs": [
        {
          "output_type": "stream",
          "text": [
            "Mounted at /content/drive\n",
            "/content/drive/Shareddrives/cis519_project\n"
          ],
          "name": "stdout"
        }
      ]
    },
    {
      "cell_type": "code",
      "metadata": {
        "colab": {
          "base_uri": "https://localhost:8080/"
        },
        "id": "j3GWsy4oxHvB",
        "outputId": "37a9377f-d25d-4a69-e042-3324ad7c4fab"
      },
      "source": [
        "import numpy as np\n",
        "import pandas as pd\n",
        "!pip3 install pandasql\n",
        "import pandasql as ps\n",
        "import tensorflow as tf\n",
        "from tensorflow import keras\n",
        "import re\n",
        "from sklearn import datasets, linear_model\n",
        "from sklearn.metrics import mean_squared_error, r2_score"
      ],
      "execution_count": null,
      "outputs": [
        {
          "output_type": "stream",
          "text": [
            "Collecting pandasql\n",
            "  Downloading https://files.pythonhosted.org/packages/6b/c4/ee4096ffa2eeeca0c749b26f0371bd26aa5c8b611c43de99a4f86d3de0a7/pandasql-0.7.3.tar.gz\n",
            "Requirement already satisfied: numpy in /usr/local/lib/python3.7/dist-packages (from pandasql) (1.19.5)\n",
            "Requirement already satisfied: pandas in /usr/local/lib/python3.7/dist-packages (from pandasql) (1.1.5)\n",
            "Requirement already satisfied: sqlalchemy in /usr/local/lib/python3.7/dist-packages (from pandasql) (1.4.7)\n",
            "Requirement already satisfied: pytz>=2017.2 in /usr/local/lib/python3.7/dist-packages (from pandas->pandasql) (2018.9)\n",
            "Requirement already satisfied: python-dateutil>=2.7.3 in /usr/local/lib/python3.7/dist-packages (from pandas->pandasql) (2.8.1)\n",
            "Requirement already satisfied: greenlet!=0.4.17; python_version >= \"3\" in /usr/local/lib/python3.7/dist-packages (from sqlalchemy->pandasql) (1.0.0)\n",
            "Requirement already satisfied: importlib-metadata; python_version < \"3.8\" in /usr/local/lib/python3.7/dist-packages (from sqlalchemy->pandasql) (3.10.1)\n",
            "Requirement already satisfied: six>=1.5 in /usr/local/lib/python3.7/dist-packages (from python-dateutil>=2.7.3->pandas->pandasql) (1.15.0)\n",
            "Requirement already satisfied: typing-extensions>=3.6.4; python_version < \"3.8\" in /usr/local/lib/python3.7/dist-packages (from importlib-metadata; python_version < \"3.8\"->sqlalchemy->pandasql) (3.7.4.3)\n",
            "Requirement already satisfied: zipp>=0.5 in /usr/local/lib/python3.7/dist-packages (from importlib-metadata; python_version < \"3.8\"->sqlalchemy->pandasql) (3.4.1)\n",
            "Building wheels for collected packages: pandasql\n",
            "  Building wheel for pandasql (setup.py) ... \u001b[?25l\u001b[?25hdone\n",
            "  Created wheel for pandasql: filename=pandasql-0.7.3-cp37-none-any.whl size=26820 sha256=0a87a0c2e161ee001c0b5f7766853903f2786b76c03749c9842a8fe782537bff\n",
            "  Stored in directory: /root/.cache/pip/wheels/53/6c/18/b87a2e5fa8a82e9c026311de56210b8d1c01846e18a9607fc9\n",
            "Successfully built pandasql\n",
            "Installing collected packages: pandasql\n",
            "Successfully installed pandasql-0.7.3\n"
          ],
          "name": "stdout"
        }
      ]
    },
    {
      "cell_type": "markdown",
      "metadata": {
        "id": "h_8Q6x78JiOW"
      },
      "source": [
        "#Part1-Operations on 'Summary' column"
      ]
    },
    {
      "cell_type": "markdown",
      "metadata": {
        "id": "YPdUbjcaReZR"
      },
      "source": [
        "## 1.1 Logistic regression"
      ]
    },
    {
      "cell_type": "code",
      "metadata": {
        "colab": {
          "base_uri": "https://localhost:8080/",
          "height": 683
        },
        "id": "at3SbWkcQyS3",
        "outputId": "f9354d54-84c9-4177-ed26-e76111d010f0"
      },
      "source": [
        "# Read in the csv file\n",
        "df = pd.read_csv('Reviews.csv')\n",
        "df.head()"
      ],
      "execution_count": null,
      "outputs": [
        {
          "output_type": "execute_result",
          "data": {
            "text/html": [
              "<div>\n",
              "<style scoped>\n",
              "    .dataframe tbody tr th:only-of-type {\n",
              "        vertical-align: middle;\n",
              "    }\n",
              "\n",
              "    .dataframe tbody tr th {\n",
              "        vertical-align: top;\n",
              "    }\n",
              "\n",
              "    .dataframe thead th {\n",
              "        text-align: right;\n",
              "    }\n",
              "</style>\n",
              "<table border=\"1\" class=\"dataframe\">\n",
              "  <thead>\n",
              "    <tr style=\"text-align: right;\">\n",
              "      <th></th>\n",
              "      <th>Id</th>\n",
              "      <th>ProductId</th>\n",
              "      <th>UserId</th>\n",
              "      <th>ProfileName</th>\n",
              "      <th>HelpfulnessNumerator</th>\n",
              "      <th>HelpfulnessDenominator</th>\n",
              "      <th>Score</th>\n",
              "      <th>Time</th>\n",
              "      <th>Summary</th>\n",
              "      <th>Text</th>\n",
              "    </tr>\n",
              "  </thead>\n",
              "  <tbody>\n",
              "    <tr>\n",
              "      <th>0</th>\n",
              "      <td>1</td>\n",
              "      <td>B001E4KFG0</td>\n",
              "      <td>A3SGXH7AUHU8GW</td>\n",
              "      <td>delmartian</td>\n",
              "      <td>1</td>\n",
              "      <td>1</td>\n",
              "      <td>5</td>\n",
              "      <td>1303862400</td>\n",
              "      <td>Good Quality Dog Food</td>\n",
              "      <td>I have bought several of the Vitality canned d...</td>\n",
              "    </tr>\n",
              "    <tr>\n",
              "      <th>1</th>\n",
              "      <td>2</td>\n",
              "      <td>B00813GRG4</td>\n",
              "      <td>A1D87F6ZCVE5NK</td>\n",
              "      <td>dll pa</td>\n",
              "      <td>0</td>\n",
              "      <td>0</td>\n",
              "      <td>1</td>\n",
              "      <td>1346976000</td>\n",
              "      <td>Not as Advertised</td>\n",
              "      <td>Product arrived labeled as Jumbo Salted Peanut...</td>\n",
              "    </tr>\n",
              "    <tr>\n",
              "      <th>2</th>\n",
              "      <td>3</td>\n",
              "      <td>B000LQOCH0</td>\n",
              "      <td>ABXLMWJIXXAIN</td>\n",
              "      <td>Natalia Corres \"Natalia Corres\"</td>\n",
              "      <td>1</td>\n",
              "      <td>1</td>\n",
              "      <td>4</td>\n",
              "      <td>1219017600</td>\n",
              "      <td>\"Delight\" says it all</td>\n",
              "      <td>This is a confection that has been around a fe...</td>\n",
              "    </tr>\n",
              "    <tr>\n",
              "      <th>3</th>\n",
              "      <td>4</td>\n",
              "      <td>B000UA0QIQ</td>\n",
              "      <td>A395BORC6FGVXV</td>\n",
              "      <td>Karl</td>\n",
              "      <td>3</td>\n",
              "      <td>3</td>\n",
              "      <td>2</td>\n",
              "      <td>1307923200</td>\n",
              "      <td>Cough Medicine</td>\n",
              "      <td>If you are looking for the secret ingredient i...</td>\n",
              "    </tr>\n",
              "    <tr>\n",
              "      <th>4</th>\n",
              "      <td>5</td>\n",
              "      <td>B006K2ZZ7K</td>\n",
              "      <td>A1UQRSCLF8GW1T</td>\n",
              "      <td>Michael D. Bigham \"M. Wassir\"</td>\n",
              "      <td>0</td>\n",
              "      <td>0</td>\n",
              "      <td>5</td>\n",
              "      <td>1350777600</td>\n",
              "      <td>Great taffy</td>\n",
              "      <td>Great taffy at a great price.  There was a wid...</td>\n",
              "    </tr>\n",
              "  </tbody>\n",
              "</table>\n",
              "</div>"
            ],
            "text/plain": [
              "   Id  ...                                               Text\n",
              "0   1  ...  I have bought several of the Vitality canned d...\n",
              "1   2  ...  Product arrived labeled as Jumbo Salted Peanut...\n",
              "2   3  ...  This is a confection that has been around a fe...\n",
              "3   4  ...  If you are looking for the secret ingredient i...\n",
              "4   5  ...  Great taffy at a great price.  There was a wid...\n",
              "\n",
              "[5 rows x 10 columns]"
            ]
          },
          "metadata": {
            "tags": []
          },
          "execution_count": 3
        }
      ]
    },
    {
      "cell_type": "code",
      "metadata": {
        "colab": {
          "base_uri": "https://localhost:8080/",
          "height": 419
        },
        "id": "ZhPlJmkrRBRF",
        "outputId": "33cec4fd-7d3c-47e3-d41a-2e30e3a80f84"
      },
      "source": [
        "# show the summary column\n",
        "df_summary = df[['Summary']]\n",
        "df_summary"
      ],
      "execution_count": null,
      "outputs": [
        {
          "output_type": "execute_result",
          "data": {
            "text/html": [
              "<div>\n",
              "<style scoped>\n",
              "    .dataframe tbody tr th:only-of-type {\n",
              "        vertical-align: middle;\n",
              "    }\n",
              "\n",
              "    .dataframe tbody tr th {\n",
              "        vertical-align: top;\n",
              "    }\n",
              "\n",
              "    .dataframe thead th {\n",
              "        text-align: right;\n",
              "    }\n",
              "</style>\n",
              "<table border=\"1\" class=\"dataframe\">\n",
              "  <thead>\n",
              "    <tr style=\"text-align: right;\">\n",
              "      <th></th>\n",
              "      <th>Summary</th>\n",
              "    </tr>\n",
              "  </thead>\n",
              "  <tbody>\n",
              "    <tr>\n",
              "      <th>0</th>\n",
              "      <td>Good Quality Dog Food</td>\n",
              "    </tr>\n",
              "    <tr>\n",
              "      <th>1</th>\n",
              "      <td>Not as Advertised</td>\n",
              "    </tr>\n",
              "    <tr>\n",
              "      <th>2</th>\n",
              "      <td>\"Delight\" says it all</td>\n",
              "    </tr>\n",
              "    <tr>\n",
              "      <th>3</th>\n",
              "      <td>Cough Medicine</td>\n",
              "    </tr>\n",
              "    <tr>\n",
              "      <th>4</th>\n",
              "      <td>Great taffy</td>\n",
              "    </tr>\n",
              "    <tr>\n",
              "      <th>...</th>\n",
              "      <td>...</td>\n",
              "    </tr>\n",
              "    <tr>\n",
              "      <th>568449</th>\n",
              "      <td>Will not do without</td>\n",
              "    </tr>\n",
              "    <tr>\n",
              "      <th>568450</th>\n",
              "      <td>disappointed</td>\n",
              "    </tr>\n",
              "    <tr>\n",
              "      <th>568451</th>\n",
              "      <td>Perfect for our maltipoo</td>\n",
              "    </tr>\n",
              "    <tr>\n",
              "      <th>568452</th>\n",
              "      <td>Favorite Training and reward treat</td>\n",
              "    </tr>\n",
              "    <tr>\n",
              "      <th>568453</th>\n",
              "      <td>Great Honey</td>\n",
              "    </tr>\n",
              "  </tbody>\n",
              "</table>\n",
              "<p>568454 rows × 1 columns</p>\n",
              "</div>"
            ],
            "text/plain": [
              "                                   Summary\n",
              "0                    Good Quality Dog Food\n",
              "1                        Not as Advertised\n",
              "2                    \"Delight\" says it all\n",
              "3                           Cough Medicine\n",
              "4                              Great taffy\n",
              "...                                    ...\n",
              "568449                 Will not do without\n",
              "568450                        disappointed\n",
              "568451            Perfect for our maltipoo\n",
              "568452  Favorite Training and reward treat\n",
              "568453                         Great Honey\n",
              "\n",
              "[568454 rows x 1 columns]"
            ]
          },
          "metadata": {
            "tags": []
          },
          "execution_count": 4
        }
      ]
    },
    {
      "cell_type": "markdown",
      "metadata": {
        "id": "ybKipIu6RH0h"
      },
      "source": [
        "### Predicting Score with Raw Data"
      ]
    },
    {
      "cell_type": "code",
      "metadata": {
        "colab": {
          "base_uri": "https://localhost:8080/"
        },
        "id": "YfRaE1xoRbK8",
        "outputId": "c240472b-64c3-4741-9b4e-ce20875c1cd4"
      },
      "source": [
        "from sklearn.model_selection import train_test_split\n",
        "\n",
        "df.dropna(inplace=True)\n",
        "X_train, X_test, y_train, y_test = train_test_split(df['Summary'], df['Score'], random_state = 42)\n",
        "print('X_train first entry:', X_train[0])\n",
        "print('X_train shape:', X_train.shape)"
      ],
      "execution_count": null,
      "outputs": [
        {
          "output_type": "stream",
          "text": [
            "X_train first entry: Good Quality Dog Food\n",
            "X_train shape: (426308,)\n"
          ],
          "name": "stdout"
        }
      ]
    },
    {
      "cell_type": "code",
      "metadata": {
        "colab": {
          "base_uri": "https://localhost:8080/"
        },
        "id": "5LpjdxHJRh9q",
        "outputId": "5a11d076-9563-46ed-8939-e7ba379965b8"
      },
      "source": [
        "# Using CountVectorizer\n",
        "from sklearn.feature_extraction.text import CountVectorizer\n",
        "from sklearn.linear_model import SGDClassifier\n",
        "from sklearn.metrics import accuracy_score\n",
        "from sklearn.metrics import f1_score\n",
        "\n",
        "vect = CountVectorizer().fit(X_train)\n",
        "clf_SGD = SGDClassifier(loss='log', max_iter=10000, random_state=42)\n",
        "X_train_vectorized = vect.transform(X_train)\n",
        "clf_SGD.fit(X_train_vectorized, y_train)\n",
        "train_pred = clf_SGD.predict(X_train_vectorized)\n",
        "test_pred = clf_SGD.predict(vect.transform(X_test))\n",
        "train_acc = accuracy_score(train_pred, y_train)\n",
        "test_acc = accuracy_score(test_pred, y_test)\n",
        "f1 = f1_score(test_pred, y_test, average='weighted')\n",
        "\n",
        "print('train accuracy:', round(train_acc, 3))\n",
        "print('test accuracy:', round(test_acc, 3))\n",
        "print('f1 score:', round(f1,3))\n"
      ],
      "execution_count": null,
      "outputs": [
        {
          "output_type": "stream",
          "text": [
            "train accuracy: 0.701\n",
            "test accuracy: 0.701\n",
            "f1 score: 0.768\n"
          ],
          "name": "stdout"
        }
      ]
    },
    {
      "cell_type": "markdown",
      "metadata": {
        "id": "tNud7X4LSb2_"
      },
      "source": [
        "### Predicting Score with Created Word Dictionary"
      ]
    },
    {
      "cell_type": "code",
      "metadata": {
        "id": "mjruAV0nxoUY"
      },
      "source": [
        "import string\n",
        "import tensorflow_datasets as tfds\n",
        "def labeler(example, index):\n",
        "  return example, tf.cast(index, tf.int64)  \n",
        "\n",
        "def delete_punc(x):\n",
        "  punctuation_string = string.punctuation\n",
        "  for s in punctuation_string:\n",
        "    x = x.replace(s,'')\n",
        "  return x\n",
        "\n",
        "def prepare(x):\n",
        "  x = str(x)\n",
        "  x = x.split()\n",
        "  x = [s.strip() for s in x]\n",
        "  x = [s.lower() for s in x]\n",
        "  x = map(lambda te: delete_punc(te),x)\n",
        "  return list(x)\n",
        "\n",
        "df_summary = df_summary[:100000]\n",
        "save = []\n",
        "\n",
        "a = df_summary['Summary'].apply(prepare)\n",
        "for i in range(len(a)):\n",
        "    save.extend(a[i])\n",
        "save = list(set(save))\n",
        "\n",
        "for item in save: \n",
        "  if len(item)<= 1:\n",
        "    save.remove(item)\n",
        "#Create two dictionaries \n",
        "# index: word\n",
        "word_index = {k:v for k,v in enumerate(save)}\n",
        "# word: index\n",
        "number_index = dict([(value, key) for (key, value) in word_index.items()])"
      ],
      "execution_count": null,
      "outputs": []
    },
    {
      "cell_type": "code",
      "metadata": {
        "id": "mhyeAlAz2nCB"
      },
      "source": [
        "#Convert the word into numbers\n",
        "#input total_save\n",
        "total_save = []\n",
        "df_summary = df_summary[:100000]\n",
        "temdf = df_summary['Summary'].apply(prepare)\n",
        "temdf\n",
        "for i in (range(len(temdf))):\n",
        "  # print(i)\n",
        "  index_save = []\n",
        "  for item in temdf[i]:\n",
        "    if len(item)>1:\n",
        "      # print(number_index[item])\n",
        "      index_save.append(number_index[item])\n",
        "  total_save.append(index_save)"
      ],
      "execution_count": null,
      "outputs": []
    },
    {
      "cell_type": "code",
      "metadata": {
        "id": "sZ8-HABaTuBy"
      },
      "source": [
        "# input\n",
        "train_data = total_save\n",
        "# output\n",
        "y_label = np.array(df['Score'])\n",
        "y_label = y_label[:100000]"
      ],
      "execution_count": null,
      "outputs": []
    },
    {
      "cell_type": "code",
      "metadata": {
        "id": "o2vaTBE3Tyuk"
      },
      "source": [
        "from tensorflow import keras\n",
        "\n",
        "train_data = total_save[:90000]\n",
        "test_data = total_save[90000:]\n",
        "\n",
        "train_label = y_label[:90000]\n",
        "test_label = y_label[90000:]\n",
        "\n",
        "train_data = keras.preprocessing.sequence.pad_sequences(train_data,padding='post',maxlen = 32)\n",
        "test_data = keras.preprocessing.sequence.pad_sequences(test_data,padding='post',maxlen=32)\n",
        "\n",
        "X_train = train_data\n",
        "y_train = train_label\n",
        "X_test = test_data\n",
        "y_test = test_label"
      ],
      "execution_count": null,
      "outputs": []
    },
    {
      "cell_type": "code",
      "metadata": {
        "colab": {
          "base_uri": "https://localhost:8080/"
        },
        "id": "gYOuomyRUAfO",
        "outputId": "36d62435-60fb-4780-9c9f-71f1f002fdbc"
      },
      "source": [
        "from sklearn.linear_model import SGDClassifier\n",
        "from sklearn.metrics import accuracy_score\n",
        "from sklearn.metrics import f1_score\n",
        "\n",
        "clf_SGD = SGDClassifier(loss='log', max_iter=10000, random_state=42)\n",
        "clf_SGD.fit(X_train, y_train)\n",
        "train_pred = clf_SGD.predict(X_train)\n",
        "test_pred = clf_SGD.predict(X_test)\n",
        "train_acc = accuracy_score(train_pred, y_train)\n",
        "test_acc = accuracy_score(test_pred, y_test)\n",
        "f1 = f1_score(test_pred, y_test, average='weighted')\n",
        "\n",
        "print('train accuracy:', round(train_acc, 3))\n",
        "print('test accuracy:', round(test_acc, 3))\n",
        "print('f1 score:', round(f1,3))"
      ],
      "execution_count": null,
      "outputs": [
        {
          "output_type": "stream",
          "text": [
            "train accuracy: 0.603\n",
            "test accuracy: 0.618\n",
            "f1 score: 0.74\n"
          ],
          "name": "stdout"
        }
      ]
    },
    {
      "cell_type": "markdown",
      "metadata": {
        "id": "-w3EXNCiUTP4"
      },
      "source": [
        "### Predicting Positivity with Clean Summary"
      ]
    },
    {
      "cell_type": "code",
      "metadata": {
        "colab": {
          "base_uri": "https://localhost:8080/",
          "height": 683
        },
        "id": "nAD6wIurU9r8",
        "outputId": "01eaf80c-386e-4efc-d0d9-c8b86e262031"
      },
      "source": [
        "# create a column(Positivity) based on the score \n",
        "df.dropna(inplace=True)\n",
        "df[df['Score'] != 3]\n",
        "df['Positivity'] = np.where(df['Score'] > 3, 1, 0)\n",
        "df.head()"
      ],
      "execution_count": null,
      "outputs": [
        {
          "output_type": "execute_result",
          "data": {
            "text/html": [
              "<div>\n",
              "<style scoped>\n",
              "    .dataframe tbody tr th:only-of-type {\n",
              "        vertical-align: middle;\n",
              "    }\n",
              "\n",
              "    .dataframe tbody tr th {\n",
              "        vertical-align: top;\n",
              "    }\n",
              "\n",
              "    .dataframe thead th {\n",
              "        text-align: right;\n",
              "    }\n",
              "</style>\n",
              "<table border=\"1\" class=\"dataframe\">\n",
              "  <thead>\n",
              "    <tr style=\"text-align: right;\">\n",
              "      <th></th>\n",
              "      <th>Id</th>\n",
              "      <th>ProductId</th>\n",
              "      <th>UserId</th>\n",
              "      <th>ProfileName</th>\n",
              "      <th>HelpfulnessNumerator</th>\n",
              "      <th>HelpfulnessDenominator</th>\n",
              "      <th>Score</th>\n",
              "      <th>Time</th>\n",
              "      <th>Summary</th>\n",
              "      <th>Text</th>\n",
              "      <th>Positivity</th>\n",
              "    </tr>\n",
              "  </thead>\n",
              "  <tbody>\n",
              "    <tr>\n",
              "      <th>0</th>\n",
              "      <td>1</td>\n",
              "      <td>B001E4KFG0</td>\n",
              "      <td>A3SGXH7AUHU8GW</td>\n",
              "      <td>delmartian</td>\n",
              "      <td>1</td>\n",
              "      <td>1</td>\n",
              "      <td>5</td>\n",
              "      <td>1303862400</td>\n",
              "      <td>Good Quality Dog Food</td>\n",
              "      <td>I have bought several of the Vitality canned d...</td>\n",
              "      <td>1</td>\n",
              "    </tr>\n",
              "    <tr>\n",
              "      <th>1</th>\n",
              "      <td>2</td>\n",
              "      <td>B00813GRG4</td>\n",
              "      <td>A1D87F6ZCVE5NK</td>\n",
              "      <td>dll pa</td>\n",
              "      <td>0</td>\n",
              "      <td>0</td>\n",
              "      <td>1</td>\n",
              "      <td>1346976000</td>\n",
              "      <td>Not as Advertised</td>\n",
              "      <td>Product arrived labeled as Jumbo Salted Peanut...</td>\n",
              "      <td>0</td>\n",
              "    </tr>\n",
              "    <tr>\n",
              "      <th>2</th>\n",
              "      <td>3</td>\n",
              "      <td>B000LQOCH0</td>\n",
              "      <td>ABXLMWJIXXAIN</td>\n",
              "      <td>Natalia Corres \"Natalia Corres\"</td>\n",
              "      <td>1</td>\n",
              "      <td>1</td>\n",
              "      <td>4</td>\n",
              "      <td>1219017600</td>\n",
              "      <td>\"Delight\" says it all</td>\n",
              "      <td>This is a confection that has been around a fe...</td>\n",
              "      <td>1</td>\n",
              "    </tr>\n",
              "    <tr>\n",
              "      <th>3</th>\n",
              "      <td>4</td>\n",
              "      <td>B000UA0QIQ</td>\n",
              "      <td>A395BORC6FGVXV</td>\n",
              "      <td>Karl</td>\n",
              "      <td>3</td>\n",
              "      <td>3</td>\n",
              "      <td>2</td>\n",
              "      <td>1307923200</td>\n",
              "      <td>Cough Medicine</td>\n",
              "      <td>If you are looking for the secret ingredient i...</td>\n",
              "      <td>0</td>\n",
              "    </tr>\n",
              "    <tr>\n",
              "      <th>4</th>\n",
              "      <td>5</td>\n",
              "      <td>B006K2ZZ7K</td>\n",
              "      <td>A1UQRSCLF8GW1T</td>\n",
              "      <td>Michael D. Bigham \"M. Wassir\"</td>\n",
              "      <td>0</td>\n",
              "      <td>0</td>\n",
              "      <td>5</td>\n",
              "      <td>1350777600</td>\n",
              "      <td>Great taffy</td>\n",
              "      <td>Great taffy at a great price.  There was a wid...</td>\n",
              "      <td>1</td>\n",
              "    </tr>\n",
              "  </tbody>\n",
              "</table>\n",
              "</div>"
            ],
            "text/plain": [
              "   Id  ... Positivity\n",
              "0   1  ...          1\n",
              "1   2  ...          0\n",
              "2   3  ...          1\n",
              "3   4  ...          0\n",
              "4   5  ...          1\n",
              "\n",
              "[5 rows x 11 columns]"
            ]
          },
          "metadata": {
            "tags": []
          },
          "execution_count": 5
        }
      ]
    },
    {
      "cell_type": "code",
      "metadata": {
        "id": "Aq1-HSPpWm9o"
      },
      "source": [
        "def utils_preprocess_text(text, flg_stemm=False, flg_lemm=True, lst_stopwords=None):\n",
        "  ## clean (convert to lowercase and remove punctuations and  \n",
        "  ## characters and then strip)\n",
        "  text = re.sub(r'[^\\w\\s]', '', str(text).lower().strip())\n",
        "          \n",
        "  ## Tokenize (convert from string to list)\n",
        "  lst_text = text.split()    ## remove Stopwords\n",
        "  if lst_stopwords is not None:\n",
        "      lst_text = [word for word in lst_text if word not in\n",
        "                  lst_stopwords]\n",
        "  ## Stemming (remove -ing, -ly, ...)\n",
        "  if flg_stemm == True:\n",
        "      ps = nltk.stem.porter.PorterStemmer()\n",
        "      lst_text = [ps.stem(word) for word in lst_text]\n",
        "              \n",
        "  ## Lemmatisation (convert the word into root word)\n",
        "  if flg_lemm == True:\n",
        "      lem = nltk.stem.wordnet.WordNetLemmatizer()\n",
        "      lst_text = [lem.lemmatize(word) for word in lst_text]\n",
        "          \n",
        "  ## back to string from list\n",
        "  text = \" \".join(lst_text)\n",
        "  return text"
      ],
      "execution_count": null,
      "outputs": []
    },
    {
      "cell_type": "code",
      "metadata": {
        "colab": {
          "base_uri": "https://localhost:8080/"
        },
        "id": "pyLoPrbuWnza",
        "outputId": "9cc64d90-f72b-4028-98dd-79ed98920f1a"
      },
      "source": [
        "import nltk\n",
        "nltk.download('stopwords')\n",
        "nltk.download('wordnet')\n",
        "from nltk.corpus import stopwords\n",
        "lst_stopwords = stopwords.words(\"english\")"
      ],
      "execution_count": null,
      "outputs": [
        {
          "output_type": "stream",
          "text": [
            "[nltk_data] Downloading package stopwords to /root/nltk_data...\n",
            "[nltk_data]   Unzipping corpora/stopwords.zip.\n",
            "[nltk_data] Downloading package wordnet to /root/nltk_data...\n",
            "[nltk_data]   Unzipping corpora/wordnet.zip.\n"
          ],
          "name": "stdout"
        }
      ]
    },
    {
      "cell_type": "code",
      "metadata": {
        "colab": {
          "base_uri": "https://localhost:8080/",
          "height": 683
        },
        "id": "sI0CXdF3Wrux",
        "outputId": "49680ef4-444a-4dd2-9121-23ecc24c093c"
      },
      "source": [
        "import re\n",
        "df[\"Summary_clean\"] = df[\"Summary\"].apply(lambda x:\n",
        "utils_preprocess_text(x, flg_stemm=False, flg_lemm=True,\n",
        "lst_stopwords=lst_stopwords))\n",
        "df.head()"
      ],
      "execution_count": null,
      "outputs": [
        {
          "output_type": "execute_result",
          "data": {
            "text/html": [
              "<div>\n",
              "<style scoped>\n",
              "    .dataframe tbody tr th:only-of-type {\n",
              "        vertical-align: middle;\n",
              "    }\n",
              "\n",
              "    .dataframe tbody tr th {\n",
              "        vertical-align: top;\n",
              "    }\n",
              "\n",
              "    .dataframe thead th {\n",
              "        text-align: right;\n",
              "    }\n",
              "</style>\n",
              "<table border=\"1\" class=\"dataframe\">\n",
              "  <thead>\n",
              "    <tr style=\"text-align: right;\">\n",
              "      <th></th>\n",
              "      <th>Id</th>\n",
              "      <th>ProductId</th>\n",
              "      <th>UserId</th>\n",
              "      <th>ProfileName</th>\n",
              "      <th>HelpfulnessNumerator</th>\n",
              "      <th>HelpfulnessDenominator</th>\n",
              "      <th>Score</th>\n",
              "      <th>Time</th>\n",
              "      <th>Summary</th>\n",
              "      <th>Text</th>\n",
              "      <th>Positivity</th>\n",
              "      <th>Summary_clean</th>\n",
              "    </tr>\n",
              "  </thead>\n",
              "  <tbody>\n",
              "    <tr>\n",
              "      <th>0</th>\n",
              "      <td>1</td>\n",
              "      <td>B001E4KFG0</td>\n",
              "      <td>A3SGXH7AUHU8GW</td>\n",
              "      <td>delmartian</td>\n",
              "      <td>1</td>\n",
              "      <td>1</td>\n",
              "      <td>5</td>\n",
              "      <td>1303862400</td>\n",
              "      <td>Good Quality Dog Food</td>\n",
              "      <td>I have bought several of the Vitality canned d...</td>\n",
              "      <td>1</td>\n",
              "      <td>good quality dog food</td>\n",
              "    </tr>\n",
              "    <tr>\n",
              "      <th>1</th>\n",
              "      <td>2</td>\n",
              "      <td>B00813GRG4</td>\n",
              "      <td>A1D87F6ZCVE5NK</td>\n",
              "      <td>dll pa</td>\n",
              "      <td>0</td>\n",
              "      <td>0</td>\n",
              "      <td>1</td>\n",
              "      <td>1346976000</td>\n",
              "      <td>Not as Advertised</td>\n",
              "      <td>Product arrived labeled as Jumbo Salted Peanut...</td>\n",
              "      <td>0</td>\n",
              "      <td>advertised</td>\n",
              "    </tr>\n",
              "    <tr>\n",
              "      <th>2</th>\n",
              "      <td>3</td>\n",
              "      <td>B000LQOCH0</td>\n",
              "      <td>ABXLMWJIXXAIN</td>\n",
              "      <td>Natalia Corres \"Natalia Corres\"</td>\n",
              "      <td>1</td>\n",
              "      <td>1</td>\n",
              "      <td>4</td>\n",
              "      <td>1219017600</td>\n",
              "      <td>\"Delight\" says it all</td>\n",
              "      <td>This is a confection that has been around a fe...</td>\n",
              "      <td>1</td>\n",
              "      <td>delight say</td>\n",
              "    </tr>\n",
              "    <tr>\n",
              "      <th>3</th>\n",
              "      <td>4</td>\n",
              "      <td>B000UA0QIQ</td>\n",
              "      <td>A395BORC6FGVXV</td>\n",
              "      <td>Karl</td>\n",
              "      <td>3</td>\n",
              "      <td>3</td>\n",
              "      <td>2</td>\n",
              "      <td>1307923200</td>\n",
              "      <td>Cough Medicine</td>\n",
              "      <td>If you are looking for the secret ingredient i...</td>\n",
              "      <td>0</td>\n",
              "      <td>cough medicine</td>\n",
              "    </tr>\n",
              "    <tr>\n",
              "      <th>4</th>\n",
              "      <td>5</td>\n",
              "      <td>B006K2ZZ7K</td>\n",
              "      <td>A1UQRSCLF8GW1T</td>\n",
              "      <td>Michael D. Bigham \"M. Wassir\"</td>\n",
              "      <td>0</td>\n",
              "      <td>0</td>\n",
              "      <td>5</td>\n",
              "      <td>1350777600</td>\n",
              "      <td>Great taffy</td>\n",
              "      <td>Great taffy at a great price.  There was a wid...</td>\n",
              "      <td>1</td>\n",
              "      <td>great taffy</td>\n",
              "    </tr>\n",
              "  </tbody>\n",
              "</table>\n",
              "</div>"
            ],
            "text/plain": [
              "   Id   ProductId  ... Positivity          Summary_clean\n",
              "0   1  B001E4KFG0  ...          1  good quality dog food\n",
              "1   2  B00813GRG4  ...          0             advertised\n",
              "2   3  B000LQOCH0  ...          1            delight say\n",
              "3   4  B000UA0QIQ  ...          0         cough medicine\n",
              "4   5  B006K2ZZ7K  ...          1            great taffy\n",
              "\n",
              "[5 rows x 12 columns]"
            ]
          },
          "metadata": {
            "tags": []
          },
          "execution_count": 8
        }
      ]
    },
    {
      "cell_type": "code",
      "metadata": {
        "id": "eocovLWcW4GX"
      },
      "source": [
        "from sklearn import feature_extraction, model_selection\n",
        "data_train,data_test = model_selection.train_test_split(df,test_size = 0.3)\n",
        "\n",
        "X_train = data_train['Summary_clean']\n",
        "X_test = data_test['Summary_clean']\n",
        "y_train = data_train['Positivity']\n",
        "y_test = data_test['Positivity']"
      ],
      "execution_count": null,
      "outputs": []
    },
    {
      "cell_type": "code",
      "metadata": {
        "colab": {
          "base_uri": "https://localhost:8080/"
        },
        "id": "-kP55o-xVyGo",
        "outputId": "c84bfd86-63e8-4966-9504-35e32ea61a40"
      },
      "source": [
        "from sklearn.feature_extraction.text import CountVectorizer\n",
        "vect = CountVectorizer().fit(X_train)\n",
        "\n",
        "from sklearn.linear_model import SGDClassifier\n",
        "from sklearn.metrics import accuracy_score\n",
        "from sklearn.metrics import f1_score\n",
        "\n",
        "clf_SGD = SGDClassifier(loss='log', max_iter=10000, random_state=42)\n",
        "X_train_vectorized = vect.transform(X_train)\n",
        "clf_SGD.fit(X_train_vectorized, y_train)\n",
        "train_pred = clf_SGD.predict(X_train_vectorized)\n",
        "test_pred = clf_SGD.predict(vect.transform(X_test))\n",
        "train_acc = accuracy_score(train_pred, y_train)\n",
        "test_acc = accuracy_score(test_pred, y_test)\n",
        "f1 = f1_score(test_pred, y_test, average='weighted')\n",
        "\n",
        "print('train accuracy:', round(train_acc, 3))\n",
        "print('test accuracy:', round(test_acc, 3))\n",
        "print('f1 score:', round(f1,3))"
      ],
      "execution_count": null,
      "outputs": [
        {
          "output_type": "stream",
          "text": [
            "train accuracy: 0.856\n",
            "test accuracy: 0.853\n",
            "f1 score: 0.872\n"
          ],
          "name": "stdout"
        }
      ]
    },
    {
      "cell_type": "markdown",
      "metadata": {
        "id": "1RP27YjCYujW"
      },
      "source": [
        "## 1.2 - Linear Regression"
      ]
    },
    {
      "cell_type": "markdown",
      "metadata": {
        "id": "poWghyZd5o_Q"
      },
      "source": [
        "### Predict score with Summary_clean"
      ]
    },
    {
      "cell_type": "code",
      "metadata": {
        "colab": {
          "base_uri": "https://localhost:8080/"
        },
        "id": "WdWofqHE5Y_u",
        "outputId": "c38c781e-fe35-4555-ea78-903d272a092b"
      },
      "source": [
        "from sklearn import feature_extraction, model_selection, naive_bayes, pipeline, manifold, preprocessing## for explainer\n",
        "\n",
        "vectorizer = feature_extraction.text.CountVectorizer(max_features=10000, ngram_range=(1,2))\n",
        "X = df['Summary_clean']\n",
        "#X = df['text_clean']\n",
        "vectorizer.fit(X)\n",
        "X_matrix = vectorizer.transform(X)\n",
        "# dic_vocabulary = vectorizer.vocabulary_\n",
        "X_matrix.shape"
      ],
      "execution_count": null,
      "outputs": [
        {
          "output_type": "execute_result",
          "data": {
            "text/plain": [
              "(568411, 10000)"
            ]
          },
          "metadata": {
            "tags": []
          },
          "execution_count": 9
        }
      ]
    },
    {
      "cell_type": "code",
      "metadata": {
        "colab": {
          "base_uri": "https://localhost:8080/"
        },
        "id": "WojYgDj258Z-",
        "outputId": "e154ff36-26f2-4ab9-bdf7-5716f26fc749"
      },
      "source": [
        "# Split the data into training/testing sets\n",
        "X_train = X_matrix[:-170000]\n",
        "X_test = X_matrix[-170000:]\n",
        "\n",
        "# Split the targets into training/testing sets\n",
        "y_train = df['Score'][:-170000]\n",
        "y_test = df['Score'][-170000:]\n",
        "\n",
        "print('df shape:', df.shape)\n",
        "print('X_train shape:', X_train.shape)\n",
        "print('X_test shape:', X_test.shape)\n",
        "print('y_train shape:', y_train.shape)\n",
        "print('y_test shape:', y_test.shape)"
      ],
      "execution_count": null,
      "outputs": [
        {
          "output_type": "stream",
          "text": [
            "df shape: (568411, 12)\n",
            "X_train shape: (398411, 10000)\n",
            "X_test shape: (170000, 10000)\n",
            "y_train shape: (398411,)\n",
            "y_test shape: (170000,)\n"
          ],
          "name": "stdout"
        }
      ]
    },
    {
      "cell_type": "code",
      "metadata": {
        "colab": {
          "base_uri": "https://localhost:8080/"
        },
        "id": "MC6ES5NY6Isi",
        "outputId": "75baa377-7a33-4b2c-9823-3b7690a5cd5a"
      },
      "source": [
        "# Create linear regression object\n",
        "regr = linear_model.LinearRegression()\n",
        "\n",
        "# Train the model using the training sets\n",
        "regr.fit(X_train, y_train)"
      ],
      "execution_count": null,
      "outputs": [
        {
          "output_type": "execute_result",
          "data": {
            "text/plain": [
              "LinearRegression(copy_X=True, fit_intercept=True, n_jobs=None, normalize=False)"
            ]
          },
          "metadata": {
            "tags": []
          },
          "execution_count": 14
        }
      ]
    },
    {
      "cell_type": "code",
      "metadata": {
        "colab": {
          "base_uri": "https://localhost:8080/"
        },
        "id": "Di2CMuRm6MvR",
        "outputId": "d3b524b7-6cb9-4169-8a7c-774cc7bbc9fe"
      },
      "source": [
        "y_pred = regr.predict(X_test)\n",
        "print(y_pred)"
      ],
      "execution_count": null,
      "outputs": [
        {
          "output_type": "stream",
          "text": [
            "[5.4317579  3.98548067 4.84396331 ... 4.7058944  5.41802951 4.84908135]\n"
          ],
          "name": "stdout"
        }
      ]
    },
    {
      "cell_type": "code",
      "metadata": {
        "colab": {
          "base_uri": "https://localhost:8080/"
        },
        "id": "zu-E7DHJ6Op_",
        "outputId": "091f45d9-b3d6-47fb-a6cf-1f4a976992e0"
      },
      "source": [
        "from sklearn.metrics import mean_squared_error,accuracy_score\n",
        "y_test = np.array(y_test).astype(float)\n",
        "y_pred = np.array(y_pred).astype(float)\n",
        "\n",
        "mse = mean_squared_error(y_test, y_pred)\n",
        "print(\"MSE: \", mse)\n",
        "\n",
        "from sklearn import metrics\n",
        "r2 = r2_score(y_test, y_pred)\n",
        "print(\"r2: \", r2)\n",
        "\n",
        "y_test = list(y_test)\n",
        "y_pred = list(y_pred)"
      ],
      "execution_count": null,
      "outputs": [
        {
          "output_type": "stream",
          "text": [
            "MSE:  0.8956631962415149\n",
            "r2:  0.47134965377201943\n"
          ],
          "name": "stdout"
        }
      ]
    },
    {
      "cell_type": "markdown",
      "metadata": {
        "id": "nimEQzxY8CJb"
      },
      "source": [
        "### Predict score with new stop word list"
      ]
    },
    {
      "cell_type": "code",
      "metadata": {
        "colab": {
          "base_uri": "https://localhost:8080/"
        },
        "id": "7sIlP5zx8Xam",
        "outputId": "ec1ed630-dacc-4d13-eb49-07a8bd969640"
      },
      "source": [
        "stopwords_new = stopwords.words(\"english\")\n",
        "\n",
        "remove_list = ['ain','aren',\"aren't\",'couldn',\"couldn't\",'didn',\"didn't\",'doesn',\"doesn't\",'hadn',\"hadn't\",'hasn',\"hasn't\",'haven',\"haven't\",\n",
        "               'isn',\"isn't\",'ma','mightn',\"mightn't\",'mustn',\"mustn't\",'needn',\"needn't\",'shan',\"shan't\",'shouldn',\"shouldn't\",'wasn',\"wasn't\",\n",
        "               'weren',\"weren't\",'won',\"won't\",'wouldn',\"wouldn't\",'against','no','nor','not','don', \"don't\",'t','s','y','o','d','m']\n",
        "\n",
        "for delItem in remove_list:\n",
        "  stopwords_new.remove(delItem)\n",
        "stopwords_new"
      ],
      "execution_count": null,
      "outputs": [
        {
          "output_type": "execute_result",
          "data": {
            "text/plain": [
              "['i',\n",
              " 'me',\n",
              " 'my',\n",
              " 'myself',\n",
              " 'we',\n",
              " 'our',\n",
              " 'ours',\n",
              " 'ourselves',\n",
              " 'you',\n",
              " \"you're\",\n",
              " \"you've\",\n",
              " \"you'll\",\n",
              " \"you'd\",\n",
              " 'your',\n",
              " 'yours',\n",
              " 'yourself',\n",
              " 'yourselves',\n",
              " 'he',\n",
              " 'him',\n",
              " 'his',\n",
              " 'himself',\n",
              " 'she',\n",
              " \"she's\",\n",
              " 'her',\n",
              " 'hers',\n",
              " 'herself',\n",
              " 'it',\n",
              " \"it's\",\n",
              " 'its',\n",
              " 'itself',\n",
              " 'they',\n",
              " 'them',\n",
              " 'their',\n",
              " 'theirs',\n",
              " 'themselves',\n",
              " 'what',\n",
              " 'which',\n",
              " 'who',\n",
              " 'whom',\n",
              " 'this',\n",
              " 'that',\n",
              " \"that'll\",\n",
              " 'these',\n",
              " 'those',\n",
              " 'am',\n",
              " 'is',\n",
              " 'are',\n",
              " 'was',\n",
              " 'were',\n",
              " 'be',\n",
              " 'been',\n",
              " 'being',\n",
              " 'have',\n",
              " 'has',\n",
              " 'had',\n",
              " 'having',\n",
              " 'do',\n",
              " 'does',\n",
              " 'did',\n",
              " 'doing',\n",
              " 'a',\n",
              " 'an',\n",
              " 'the',\n",
              " 'and',\n",
              " 'but',\n",
              " 'if',\n",
              " 'or',\n",
              " 'because',\n",
              " 'as',\n",
              " 'until',\n",
              " 'while',\n",
              " 'of',\n",
              " 'at',\n",
              " 'by',\n",
              " 'for',\n",
              " 'with',\n",
              " 'about',\n",
              " 'between',\n",
              " 'into',\n",
              " 'through',\n",
              " 'during',\n",
              " 'before',\n",
              " 'after',\n",
              " 'above',\n",
              " 'below',\n",
              " 'to',\n",
              " 'from',\n",
              " 'up',\n",
              " 'down',\n",
              " 'in',\n",
              " 'out',\n",
              " 'on',\n",
              " 'off',\n",
              " 'over',\n",
              " 'under',\n",
              " 'again',\n",
              " 'further',\n",
              " 'then',\n",
              " 'once',\n",
              " 'here',\n",
              " 'there',\n",
              " 'when',\n",
              " 'where',\n",
              " 'why',\n",
              " 'how',\n",
              " 'all',\n",
              " 'any',\n",
              " 'both',\n",
              " 'each',\n",
              " 'few',\n",
              " 'more',\n",
              " 'most',\n",
              " 'other',\n",
              " 'some',\n",
              " 'such',\n",
              " 'only',\n",
              " 'own',\n",
              " 'same',\n",
              " 'so',\n",
              " 'than',\n",
              " 'too',\n",
              " 'very',\n",
              " 'can',\n",
              " 'will',\n",
              " 'just',\n",
              " 'should',\n",
              " \"should've\",\n",
              " 'now',\n",
              " 'll',\n",
              " 're',\n",
              " 've']"
            ]
          },
          "metadata": {
            "tags": []
          },
          "execution_count": 18
        }
      ]
    },
    {
      "cell_type": "code",
      "metadata": {
        "colab": {
          "base_uri": "https://localhost:8080/",
          "height": 204
        },
        "id": "nA5EdyMr8nsF",
        "outputId": "0a542141-cee7-4dec-c0ef-f3e6e2b58234"
      },
      "source": [
        "df[\"Summary_clean_new\"] = df[\"Summary\"].apply(lambda x: utils_preprocess_text(x, flg_stemm=False, flg_lemm=True, lst_stopwords=stopwords_new))\n",
        "df_clean = df[[\"Summary\",\"Summary_clean\",\"Summary_clean_new\"]]\n",
        "df_clean.head()"
      ],
      "execution_count": null,
      "outputs": [
        {
          "output_type": "execute_result",
          "data": {
            "text/html": [
              "<div>\n",
              "<style scoped>\n",
              "    .dataframe tbody tr th:only-of-type {\n",
              "        vertical-align: middle;\n",
              "    }\n",
              "\n",
              "    .dataframe tbody tr th {\n",
              "        vertical-align: top;\n",
              "    }\n",
              "\n",
              "    .dataframe thead th {\n",
              "        text-align: right;\n",
              "    }\n",
              "</style>\n",
              "<table border=\"1\" class=\"dataframe\">\n",
              "  <thead>\n",
              "    <tr style=\"text-align: right;\">\n",
              "      <th></th>\n",
              "      <th>Summary</th>\n",
              "      <th>Summary_clean</th>\n",
              "      <th>Summary_clean_new</th>\n",
              "    </tr>\n",
              "  </thead>\n",
              "  <tbody>\n",
              "    <tr>\n",
              "      <th>0</th>\n",
              "      <td>Good Quality Dog Food</td>\n",
              "      <td>good quality dog food</td>\n",
              "      <td>good quality dog food</td>\n",
              "    </tr>\n",
              "    <tr>\n",
              "      <th>1</th>\n",
              "      <td>Not as Advertised</td>\n",
              "      <td>advertised</td>\n",
              "      <td>not advertised</td>\n",
              "    </tr>\n",
              "    <tr>\n",
              "      <th>2</th>\n",
              "      <td>\"Delight\" says it all</td>\n",
              "      <td>delight say</td>\n",
              "      <td>delight say</td>\n",
              "    </tr>\n",
              "    <tr>\n",
              "      <th>3</th>\n",
              "      <td>Cough Medicine</td>\n",
              "      <td>cough medicine</td>\n",
              "      <td>cough medicine</td>\n",
              "    </tr>\n",
              "    <tr>\n",
              "      <th>4</th>\n",
              "      <td>Great taffy</td>\n",
              "      <td>great taffy</td>\n",
              "      <td>great taffy</td>\n",
              "    </tr>\n",
              "  </tbody>\n",
              "</table>\n",
              "</div>"
            ],
            "text/plain": [
              "                 Summary          Summary_clean      Summary_clean_new\n",
              "0  Good Quality Dog Food  good quality dog food  good quality dog food\n",
              "1      Not as Advertised             advertised         not advertised\n",
              "2  \"Delight\" says it all            delight say            delight say\n",
              "3         Cough Medicine         cough medicine         cough medicine\n",
              "4            Great taffy            great taffy            great taffy"
            ]
          },
          "metadata": {
            "tags": []
          },
          "execution_count": 20
        }
      ]
    },
    {
      "cell_type": "code",
      "metadata": {
        "colab": {
          "base_uri": "https://localhost:8080/"
        },
        "id": "Dr3dbGUm88_D",
        "outputId": "dc3d2864-b14f-4e94-d43c-6a2120f36ed1"
      },
      "source": [
        "from sklearn import feature_extraction, model_selection, naive_bayes, pipeline, manifold, preprocessing## for explainer\n",
        "\n",
        "vectorizer = feature_extraction.text.CountVectorizer(max_features=10000, ngram_range=(1,2))\n",
        "X = df['Summary_clean_new']\n",
        "#X = df['text_clean']\n",
        "vectorizer.fit(X)\n",
        "X_matrix = vectorizer.transform(X)\n",
        "# dic_vocabulary = vectorizer.vocabulary_\n",
        "X_matrix.shape"
      ],
      "execution_count": null,
      "outputs": [
        {
          "output_type": "execute_result",
          "data": {
            "text/plain": [
              "(568411, 10000)"
            ]
          },
          "metadata": {
            "tags": []
          },
          "execution_count": 27
        }
      ]
    },
    {
      "cell_type": "code",
      "metadata": {
        "colab": {
          "base_uri": "https://localhost:8080/"
        },
        "id": "VwTGMAg79FNv",
        "outputId": "7dc3abbc-38d3-4970-966c-359adc7927b2"
      },
      "source": [
        "# Split the data into training/testing sets\n",
        "X_train = X_matrix[:-170000]\n",
        "X_test = X_matrix[-170000:]\n",
        "\n",
        "# Split the targets into training/testing sets\n",
        "y_train = df['Score'][:-170000]\n",
        "y_test = df['Score'][-170000:]\n",
        "\n",
        "print('df shape:', df.shape)\n",
        "print('X_train shape:', X_train.shape)\n",
        "print('X_test shape:', X_test.shape)\n",
        "print('y_train shape:', y_train.shape)\n",
        "print('y_test shape:', y_test.shape)"
      ],
      "execution_count": null,
      "outputs": [
        {
          "output_type": "stream",
          "text": [
            "df shape: (568411, 13)\n",
            "X_train shape: (398411, 10000)\n",
            "X_test shape: (170000, 10000)\n",
            "y_train shape: (398411,)\n",
            "y_test shape: (170000,)\n"
          ],
          "name": "stdout"
        }
      ]
    },
    {
      "cell_type": "code",
      "metadata": {
        "colab": {
          "base_uri": "https://localhost:8080/"
        },
        "id": "d8d7P3hk9Irs",
        "outputId": "57b4fd6d-2c64-47f6-df55-a8731e20f099"
      },
      "source": [
        "# Create linear regression object\n",
        "regr = linear_model.LinearRegression()\n",
        "\n",
        "# Train the model using the training sets\n",
        "regr.fit(X_train, y_train)"
      ],
      "execution_count": null,
      "outputs": [
        {
          "output_type": "execute_result",
          "data": {
            "text/plain": [
              "LinearRegression(copy_X=True, fit_intercept=True, n_jobs=None, normalize=False)"
            ]
          },
          "metadata": {
            "tags": []
          },
          "execution_count": 29
        }
      ]
    },
    {
      "cell_type": "code",
      "metadata": {
        "colab": {
          "base_uri": "https://localhost:8080/"
        },
        "id": "X4olGD3M9RBH",
        "outputId": "3c074879-2940-4c8f-bc20-82a004c6fc6b"
      },
      "source": [
        "y_pred = regr.predict(X_test)\n",
        "print(y_pred)"
      ],
      "execution_count": null,
      "outputs": [
        {
          "output_type": "stream",
          "text": [
            "[5.39851157 3.97827295 4.85442688 ... 4.73929285 5.50544525 4.8897335 ]\n"
          ],
          "name": "stdout"
        }
      ]
    },
    {
      "cell_type": "code",
      "metadata": {
        "colab": {
          "base_uri": "https://localhost:8080/"
        },
        "id": "BVyUW6df9Up_",
        "outputId": "ad523929-38c8-4d1a-fee2-dab05ee75f89"
      },
      "source": [
        "y_test = np.array(y_test).astype(float)\n",
        "y_pred = np.array(y_pred).astype(float)\n",
        "\n",
        "mse = mean_squared_error(y_test, y_pred)\n",
        "print(\"MSE: \", mse)\n",
        "\n",
        "r2 = r2_score(y_test, y_pred)\n",
        "print(\"r2: \", r2)\n",
        "\n",
        "y_test = list(y_test)\n",
        "y_pred = list(y_pred)"
      ],
      "execution_count": null,
      "outputs": [
        {
          "output_type": "stream",
          "text": [
            "MSE:  0.7806817634657832\n",
            "r2:  0.5392155374007683\n"
          ],
          "name": "stdout"
        }
      ]
    },
    {
      "cell_type": "markdown",
      "metadata": {
        "id": "I5SFkBuk9qnO"
      },
      "source": [
        "### Predict positivity"
      ]
    },
    {
      "cell_type": "code",
      "metadata": {
        "colab": {
          "base_uri": "https://localhost:8080/"
        },
        "id": "mAeo1PVD91K7",
        "outputId": "1445dadf-0c4b-45f3-c72d-6011e0b43404"
      },
      "source": [
        "# Split the data into training/testing sets\n",
        "X_train = X_matrix[:-170000]\n",
        "X_test = X_matrix[-170000:]\n",
        "\n",
        "# Split the targets into training/testing sets\n",
        "y_train = df['Positivity'][:-170000]\n",
        "y_test = df['Positivity'][-170000:]\n",
        "\n",
        "print('df shape:', df.shape)\n",
        "print('X_train shape:', X_train.shape)\n",
        "print('X_test shape:', X_test.shape)\n",
        "print('y_train shape:', y_train.shape)\n",
        "print('y_test shape:', y_test.shape)"
      ],
      "execution_count": null,
      "outputs": [
        {
          "output_type": "stream",
          "text": [
            "df shape: (568411, 13)\n",
            "X_train shape: (398411, 10000)\n",
            "X_test shape: (170000, 10000)\n",
            "y_train shape: (398411,)\n",
            "y_test shape: (170000,)\n"
          ],
          "name": "stdout"
        }
      ]
    },
    {
      "cell_type": "code",
      "metadata": {
        "colab": {
          "base_uri": "https://localhost:8080/"
        },
        "id": "vLlahViy96Nn",
        "outputId": "4499b80c-397a-471a-d107-54982d94ab90"
      },
      "source": [
        "# Create linear regression object\n",
        "regr = linear_model.LinearRegression()\n",
        "\n",
        "# Train the model using the training sets\n",
        "regr.fit(X_train, y_train)"
      ],
      "execution_count": null,
      "outputs": [
        {
          "output_type": "execute_result",
          "data": {
            "text/plain": [
              "LinearRegression(copy_X=True, fit_intercept=True, n_jobs=None, normalize=False)"
            ]
          },
          "metadata": {
            "tags": []
          },
          "execution_count": 34
        }
      ]
    },
    {
      "cell_type": "code",
      "metadata": {
        "colab": {
          "base_uri": "https://localhost:8080/"
        },
        "id": "yO553xvs9-Od",
        "outputId": "ec648dbd-c1d4-4d02-8662-c4df83ec899a"
      },
      "source": [
        "y_pred = regr.predict(X_test)\n",
        "print(y_pred)"
      ],
      "execution_count": null,
      "outputs": [
        {
          "output_type": "stream",
          "text": [
            "[1.15042359 0.70466835 0.99024938 ... 0.93669791 1.16678242 1.00430004]\n"
          ],
          "name": "stdout"
        }
      ]
    },
    {
      "cell_type": "code",
      "metadata": {
        "colab": {
          "base_uri": "https://localhost:8080/"
        },
        "id": "pwUecmkU-AT_",
        "outputId": "8a9b46d5-b42d-4df0-e3f1-79e9db364dac"
      },
      "source": [
        "y_test = np.array(y_test).astype(float)\n",
        "y_pred = np.array(y_pred).astype(float)\n",
        "\n",
        "mse = mean_squared_error(y_test, y_pred)\n",
        "print(\"MSE: \", mse)\n",
        "\n",
        "r2 = r2_score(y_test, y_pred)\n",
        "print(\"r2: \", r2)\n",
        "\n",
        "y_pred = np.round(y_pred)\n",
        "accuracy_score = accuracy_score(y_test, y_pred)\n",
        "print(\"accuracy_score: \", accuracy_score)"
      ],
      "execution_count": null,
      "outputs": [
        {
          "output_type": "stream",
          "text": [
            "MSE:  0.0833565991062954\n",
            "r2:  0.5077482014439189\n",
            "accuracy_score:  0.8942529411764706\n"
          ],
          "name": "stdout"
        }
      ]
    },
    {
      "cell_type": "markdown",
      "metadata": {
        "id": "Q39TYXdaXxND"
      },
      "source": [
        "# Part2 - Operations on the comment column"
      ]
    },
    {
      "cell_type": "markdown",
      "metadata": {
        "id": "Tgg6B5zWSyZK"
      },
      "source": [
        "## 2.1 Text prepocessing"
      ]
    },
    {
      "cell_type": "code",
      "metadata": {
        "colab": {
          "base_uri": "https://localhost:8080/"
        },
        "id": "Yy9YfH9qS3V9",
        "outputId": "d910d0c5-0566-451a-a318-6d9802e597ae"
      },
      "source": [
        "import json\n",
        "import pandas as pd\n",
        "import numpy as np\n",
        "import matplotlib.pyplot as plt\n",
        "import seaborn as sns\n",
        "from sklearn import feature_extraction, model_selection, naive_bayes, pipeline, manifold, preprocessing\n",
        "!pip install lime\n",
        "from lime import lime_text\n",
        "import gensim\n",
        "import gensim.downloader as gensim_api\n",
        "from tensorflow.keras import models, layers, preprocessing as kprocessing\n"
      ],
      "execution_count": null,
      "outputs": [
        {
          "output_type": "stream",
          "text": [
            "Collecting lime\n",
            "\u001b[?25l  Downloading https://files.pythonhosted.org/packages/f5/86/91a13127d83d793ecb50eb75e716f76e6eda809b6803c5a4ff462339789e/lime-0.2.0.1.tar.gz (275kB)\n",
            "\r\u001b[K     |█▏                              | 10kB 8.9MB/s eta 0:00:01\r\u001b[K     |██▍                             | 20kB 10.5MB/s eta 0:00:01\r\u001b[K     |███▋                            | 30kB 8.5MB/s eta 0:00:01\r\u001b[K     |████▊                           | 40kB 5.8MB/s eta 0:00:01\r\u001b[K     |██████                          | 51kB 7.1MB/s eta 0:00:01\r\u001b[K     |███████▏                        | 61kB 7.9MB/s eta 0:00:01\r\u001b[K     |████████▎                       | 71kB 8.2MB/s eta 0:00:01\r\u001b[K     |█████████▌                      | 81kB 9.1MB/s eta 0:00:01\r\u001b[K     |██████████▊                     | 92kB 8.8MB/s eta 0:00:01\r\u001b[K     |███████████▉                    | 102kB 7.9MB/s eta 0:00:01\r\u001b[K     |█████████████                   | 112kB 7.9MB/s eta 0:00:01\r\u001b[K     |██████████████▎                 | 122kB 7.9MB/s eta 0:00:01\r\u001b[K     |███████████████▌                | 133kB 7.9MB/s eta 0:00:01\r\u001b[K     |████████████████▋               | 143kB 7.9MB/s eta 0:00:01\r\u001b[K     |█████████████████▉              | 153kB 7.9MB/s eta 0:00:01\r\u001b[K     |███████████████████             | 163kB 7.9MB/s eta 0:00:01\r\u001b[K     |████████████████████▏           | 174kB 7.9MB/s eta 0:00:01\r\u001b[K     |█████████████████████▍          | 184kB 7.9MB/s eta 0:00:01\r\u001b[K     |██████████████████████▋         | 194kB 7.9MB/s eta 0:00:01\r\u001b[K     |███████████████████████▊        | 204kB 7.9MB/s eta 0:00:01\r\u001b[K     |█████████████████████████       | 215kB 7.9MB/s eta 0:00:01\r\u001b[K     |██████████████████████████▏     | 225kB 7.9MB/s eta 0:00:01\r\u001b[K     |███████████████████████████▍    | 235kB 7.9MB/s eta 0:00:01\r\u001b[K     |████████████████████████████▌   | 245kB 7.9MB/s eta 0:00:01\r\u001b[K     |█████████████████████████████▊  | 256kB 7.9MB/s eta 0:00:01\r\u001b[K     |███████████████████████████████ | 266kB 7.9MB/s eta 0:00:01\r\u001b[K     |████████████████████████████████| 276kB 7.9MB/s \n",
            "\u001b[?25hRequirement already satisfied: matplotlib in /usr/local/lib/python3.7/dist-packages (from lime) (3.2.2)\n",
            "Requirement already satisfied: numpy in /usr/local/lib/python3.7/dist-packages (from lime) (1.19.5)\n",
            "Requirement already satisfied: scipy in /usr/local/lib/python3.7/dist-packages (from lime) (1.4.1)\n",
            "Requirement already satisfied: tqdm in /usr/local/lib/python3.7/dist-packages (from lime) (4.41.1)\n",
            "Requirement already satisfied: scikit-learn>=0.18 in /usr/local/lib/python3.7/dist-packages (from lime) (0.22.2.post1)\n",
            "Requirement already satisfied: scikit-image>=0.12 in /usr/local/lib/python3.7/dist-packages (from lime) (0.16.2)\n",
            "Requirement already satisfied: python-dateutil>=2.1 in /usr/local/lib/python3.7/dist-packages (from matplotlib->lime) (2.8.1)\n",
            "Requirement already satisfied: pyparsing!=2.0.4,!=2.1.2,!=2.1.6,>=2.0.1 in /usr/local/lib/python3.7/dist-packages (from matplotlib->lime) (2.4.7)\n",
            "Requirement already satisfied: kiwisolver>=1.0.1 in /usr/local/lib/python3.7/dist-packages (from matplotlib->lime) (1.3.1)\n",
            "Requirement already satisfied: cycler>=0.10 in /usr/local/lib/python3.7/dist-packages (from matplotlib->lime) (0.10.0)\n",
            "Requirement already satisfied: joblib>=0.11 in /usr/local/lib/python3.7/dist-packages (from scikit-learn>=0.18->lime) (1.0.1)\n",
            "Requirement already satisfied: pillow>=4.3.0 in /usr/local/lib/python3.7/dist-packages (from scikit-image>=0.12->lime) (7.1.2)\n",
            "Requirement already satisfied: imageio>=2.3.0 in /usr/local/lib/python3.7/dist-packages (from scikit-image>=0.12->lime) (2.4.1)\n",
            "Requirement already satisfied: PyWavelets>=0.4.0 in /usr/local/lib/python3.7/dist-packages (from scikit-image>=0.12->lime) (1.1.1)\n",
            "Requirement already satisfied: networkx>=2.0 in /usr/local/lib/python3.7/dist-packages (from scikit-image>=0.12->lime) (2.5.1)\n",
            "Requirement already satisfied: six>=1.5 in /usr/local/lib/python3.7/dist-packages (from python-dateutil>=2.1->matplotlib->lime) (1.15.0)\n",
            "Requirement already satisfied: decorator<5,>=4.3 in /usr/local/lib/python3.7/dist-packages (from networkx>=2.0->scikit-image>=0.12->lime) (4.4.2)\n",
            "Building wheels for collected packages: lime\n",
            "  Building wheel for lime (setup.py) ... \u001b[?25l\u001b[?25hdone\n",
            "  Created wheel for lime: filename=lime-0.2.0.1-cp37-none-any.whl size=283846 sha256=7f3eed38815775f35360891ac844eb3334efc64055f5802dec886a6f7bb31b53\n",
            "  Stored in directory: /root/.cache/pip/wheels/4c/4f/a5/0bc765457bd41378bf3ce8d17d7495369d6e7ca3b712c60c89\n",
            "Successfully built lime\n",
            "Installing collected packages: lime\n",
            "Successfully installed lime-0.2.0.1\n"
          ],
          "name": "stdout"
        }
      ]
    },
    {
      "cell_type": "code",
      "metadata": {
        "colab": {
          "base_uri": "https://localhost:8080/",
          "height": 285
        },
        "id": "b1TW89uHSuhg",
        "outputId": "b338526f-b087-4068-96e9-40c08d1e9ae5"
      },
      "source": [
        "df = pd.read_csv('Reviews.csv')\n",
        "df.head()"
      ],
      "execution_count": null,
      "outputs": [
        {
          "output_type": "execute_result",
          "data": {
            "text/html": [
              "<div>\n",
              "<style scoped>\n",
              "    .dataframe tbody tr th:only-of-type {\n",
              "        vertical-align: middle;\n",
              "    }\n",
              "\n",
              "    .dataframe tbody tr th {\n",
              "        vertical-align: top;\n",
              "    }\n",
              "\n",
              "    .dataframe thead th {\n",
              "        text-align: right;\n",
              "    }\n",
              "</style>\n",
              "<table border=\"1\" class=\"dataframe\">\n",
              "  <thead>\n",
              "    <tr style=\"text-align: right;\">\n",
              "      <th></th>\n",
              "      <th>Id</th>\n",
              "      <th>ProductId</th>\n",
              "      <th>UserId</th>\n",
              "      <th>ProfileName</th>\n",
              "      <th>HelpfulnessNumerator</th>\n",
              "      <th>HelpfulnessDenominator</th>\n",
              "      <th>Score</th>\n",
              "      <th>Time</th>\n",
              "      <th>Summary</th>\n",
              "      <th>Text</th>\n",
              "    </tr>\n",
              "  </thead>\n",
              "  <tbody>\n",
              "    <tr>\n",
              "      <th>0</th>\n",
              "      <td>1</td>\n",
              "      <td>B001E4KFG0</td>\n",
              "      <td>A3SGXH7AUHU8GW</td>\n",
              "      <td>delmartian</td>\n",
              "      <td>1</td>\n",
              "      <td>1</td>\n",
              "      <td>5</td>\n",
              "      <td>1303862400</td>\n",
              "      <td>Good Quality Dog Food</td>\n",
              "      <td>I have bought several of the Vitality canned d...</td>\n",
              "    </tr>\n",
              "    <tr>\n",
              "      <th>1</th>\n",
              "      <td>2</td>\n",
              "      <td>B00813GRG4</td>\n",
              "      <td>A1D87F6ZCVE5NK</td>\n",
              "      <td>dll pa</td>\n",
              "      <td>0</td>\n",
              "      <td>0</td>\n",
              "      <td>1</td>\n",
              "      <td>1346976000</td>\n",
              "      <td>Not as Advertised</td>\n",
              "      <td>Product arrived labeled as Jumbo Salted Peanut...</td>\n",
              "    </tr>\n",
              "    <tr>\n",
              "      <th>2</th>\n",
              "      <td>3</td>\n",
              "      <td>B000LQOCH0</td>\n",
              "      <td>ABXLMWJIXXAIN</td>\n",
              "      <td>Natalia Corres \"Natalia Corres\"</td>\n",
              "      <td>1</td>\n",
              "      <td>1</td>\n",
              "      <td>4</td>\n",
              "      <td>1219017600</td>\n",
              "      <td>\"Delight\" says it all</td>\n",
              "      <td>This is a confection that has been around a fe...</td>\n",
              "    </tr>\n",
              "    <tr>\n",
              "      <th>3</th>\n",
              "      <td>4</td>\n",
              "      <td>B000UA0QIQ</td>\n",
              "      <td>A395BORC6FGVXV</td>\n",
              "      <td>Karl</td>\n",
              "      <td>3</td>\n",
              "      <td>3</td>\n",
              "      <td>2</td>\n",
              "      <td>1307923200</td>\n",
              "      <td>Cough Medicine</td>\n",
              "      <td>If you are looking for the secret ingredient i...</td>\n",
              "    </tr>\n",
              "    <tr>\n",
              "      <th>4</th>\n",
              "      <td>5</td>\n",
              "      <td>B006K2ZZ7K</td>\n",
              "      <td>A1UQRSCLF8GW1T</td>\n",
              "      <td>Michael D. Bigham \"M. Wassir\"</td>\n",
              "      <td>0</td>\n",
              "      <td>0</td>\n",
              "      <td>5</td>\n",
              "      <td>1350777600</td>\n",
              "      <td>Great taffy</td>\n",
              "      <td>Great taffy at a great price.  There was a wid...</td>\n",
              "    </tr>\n",
              "  </tbody>\n",
              "</table>\n",
              "</div>"
            ],
            "text/plain": [
              "   Id  ...                                               Text\n",
              "0   1  ...  I have bought several of the Vitality canned d...\n",
              "1   2  ...  Product arrived labeled as Jumbo Salted Peanut...\n",
              "2   3  ...  This is a confection that has been around a fe...\n",
              "3   4  ...  If you are looking for the secret ingredient i...\n",
              "4   5  ...  Great taffy at a great price.  There was a wid...\n",
              "\n",
              "[5 rows x 10 columns]"
            ]
          },
          "metadata": {
            "tags": []
          },
          "execution_count": 4
        }
      ]
    },
    {
      "cell_type": "code",
      "metadata": {
        "colab": {
          "base_uri": "https://localhost:8080/",
          "height": 407
        },
        "id": "_gJ5411IUVoF",
        "outputId": "defe7e50-5c0a-4baf-faff-320e22e49a60"
      },
      "source": [
        "df_target = df[['Id','Score','Text']]\n",
        "df_target"
      ],
      "execution_count": null,
      "outputs": [
        {
          "output_type": "execute_result",
          "data": {
            "text/html": [
              "<div>\n",
              "<style scoped>\n",
              "    .dataframe tbody tr th:only-of-type {\n",
              "        vertical-align: middle;\n",
              "    }\n",
              "\n",
              "    .dataframe tbody tr th {\n",
              "        vertical-align: top;\n",
              "    }\n",
              "\n",
              "    .dataframe thead th {\n",
              "        text-align: right;\n",
              "    }\n",
              "</style>\n",
              "<table border=\"1\" class=\"dataframe\">\n",
              "  <thead>\n",
              "    <tr style=\"text-align: right;\">\n",
              "      <th></th>\n",
              "      <th>Id</th>\n",
              "      <th>Score</th>\n",
              "      <th>Text</th>\n",
              "    </tr>\n",
              "  </thead>\n",
              "  <tbody>\n",
              "    <tr>\n",
              "      <th>0</th>\n",
              "      <td>1</td>\n",
              "      <td>5</td>\n",
              "      <td>I have bought several of the Vitality canned d...</td>\n",
              "    </tr>\n",
              "    <tr>\n",
              "      <th>1</th>\n",
              "      <td>2</td>\n",
              "      <td>1</td>\n",
              "      <td>Product arrived labeled as Jumbo Salted Peanut...</td>\n",
              "    </tr>\n",
              "    <tr>\n",
              "      <th>2</th>\n",
              "      <td>3</td>\n",
              "      <td>4</td>\n",
              "      <td>This is a confection that has been around a fe...</td>\n",
              "    </tr>\n",
              "    <tr>\n",
              "      <th>3</th>\n",
              "      <td>4</td>\n",
              "      <td>2</td>\n",
              "      <td>If you are looking for the secret ingredient i...</td>\n",
              "    </tr>\n",
              "    <tr>\n",
              "      <th>4</th>\n",
              "      <td>5</td>\n",
              "      <td>5</td>\n",
              "      <td>Great taffy at a great price.  There was a wid...</td>\n",
              "    </tr>\n",
              "    <tr>\n",
              "      <th>...</th>\n",
              "      <td>...</td>\n",
              "      <td>...</td>\n",
              "      <td>...</td>\n",
              "    </tr>\n",
              "    <tr>\n",
              "      <th>568449</th>\n",
              "      <td>568450</td>\n",
              "      <td>5</td>\n",
              "      <td>Great for sesame chicken..this is a good if no...</td>\n",
              "    </tr>\n",
              "    <tr>\n",
              "      <th>568450</th>\n",
              "      <td>568451</td>\n",
              "      <td>2</td>\n",
              "      <td>I'm disappointed with the flavor. The chocolat...</td>\n",
              "    </tr>\n",
              "    <tr>\n",
              "      <th>568451</th>\n",
              "      <td>568452</td>\n",
              "      <td>5</td>\n",
              "      <td>These stars are small, so you can give 10-15 o...</td>\n",
              "    </tr>\n",
              "    <tr>\n",
              "      <th>568452</th>\n",
              "      <td>568453</td>\n",
              "      <td>5</td>\n",
              "      <td>These are the BEST treats for training and rew...</td>\n",
              "    </tr>\n",
              "    <tr>\n",
              "      <th>568453</th>\n",
              "      <td>568454</td>\n",
              "      <td>5</td>\n",
              "      <td>I am very satisfied ,product is as advertised,...</td>\n",
              "    </tr>\n",
              "  </tbody>\n",
              "</table>\n",
              "<p>568454 rows × 3 columns</p>\n",
              "</div>"
            ],
            "text/plain": [
              "            Id  Score                                               Text\n",
              "0            1      5  I have bought several of the Vitality canned d...\n",
              "1            2      1  Product arrived labeled as Jumbo Salted Peanut...\n",
              "2            3      4  This is a confection that has been around a fe...\n",
              "3            4      2  If you are looking for the secret ingredient i...\n",
              "4            5      5  Great taffy at a great price.  There was a wid...\n",
              "...        ...    ...                                                ...\n",
              "568449  568450      5  Great for sesame chicken..this is a good if no...\n",
              "568450  568451      2  I'm disappointed with the flavor. The chocolat...\n",
              "568451  568452      5  These stars are small, so you can give 10-15 o...\n",
              "568452  568453      5  These are the BEST treats for training and rew...\n",
              "568453  568454      5  I am very satisfied ,product is as advertised,...\n",
              "\n",
              "[568454 rows x 3 columns]"
            ]
          },
          "metadata": {
            "tags": []
          },
          "execution_count": 5
        }
      ]
    },
    {
      "cell_type": "markdown",
      "metadata": {
        "id": "HPFUDRnMTLfh"
      },
      "source": [
        "###Check the Score Distribution"
      ]
    },
    {
      "cell_type": "code",
      "metadata": {
        "colab": {
          "base_uri": "https://localhost:8080/",
          "height": 294
        },
        "id": "PDJjpGmMbzst",
        "outputId": "15386c6e-297d-42f9-f9e9-0b1293a25888"
      },
      "source": [
        "\n",
        "fig, ax = plt.subplots()\n",
        "fig.suptitle(\"Score Distribution\")\n",
        "df_target['Score'].reset_index().groupby('Score').count().sort_values(by= \n",
        "\"index\").plot(kind=\"barh\", legend=False,ax=ax).grid(axis='x')\n",
        "plt.show()"
      ],
      "execution_count": null,
      "outputs": [
        {
          "output_type": "display_data",
          "data": {
            "image/png": "[encoded data removed]",
            "text/plain": [
              "<Figure size 432x288 with 1 Axes>"
            ]
          },
          "metadata": {
            "tags": [],
            "needs_background": "light"
          }
        }
      ]
    },
    {
      "cell_type": "code",
      "metadata": {
        "colab": {
          "base_uri": "https://localhost:8080/",
          "height": 228
        },
        "id": "M7u5ZFKolpTb",
        "outputId": "c3ad7a79-18f3-4e72-c365-b7bec150fe15"
      },
      "source": [
        "df_target['Score'].reset_index().groupby('Score').count()"
      ],
      "execution_count": null,
      "outputs": [
        {
          "output_type": "execute_result",
          "data": {
            "text/html": [
              "<div>\n",
              "<style scoped>\n",
              "    .dataframe tbody tr th:only-of-type {\n",
              "        vertical-align: middle;\n",
              "    }\n",
              "\n",
              "    .dataframe tbody tr th {\n",
              "        vertical-align: top;\n",
              "    }\n",
              "\n",
              "    .dataframe thead th {\n",
              "        text-align: right;\n",
              "    }\n",
              "</style>\n",
              "<table border=\"1\" class=\"dataframe\">\n",
              "  <thead>\n",
              "    <tr style=\"text-align: right;\">\n",
              "      <th></th>\n",
              "      <th>index</th>\n",
              "    </tr>\n",
              "    <tr>\n",
              "      <th>Score</th>\n",
              "      <th></th>\n",
              "    </tr>\n",
              "  </thead>\n",
              "  <tbody>\n",
              "    <tr>\n",
              "      <th>1</th>\n",
              "      <td>52268</td>\n",
              "    </tr>\n",
              "    <tr>\n",
              "      <th>2</th>\n",
              "      <td>29769</td>\n",
              "    </tr>\n",
              "    <tr>\n",
              "      <th>3</th>\n",
              "      <td>42640</td>\n",
              "    </tr>\n",
              "    <tr>\n",
              "      <th>4</th>\n",
              "      <td>80655</td>\n",
              "    </tr>\n",
              "    <tr>\n",
              "      <th>5</th>\n",
              "      <td>363122</td>\n",
              "    </tr>\n",
              "  </tbody>\n",
              "</table>\n",
              "</div>"
            ],
            "text/plain": [
              "        index\n",
              "Score        \n",
              "1       52268\n",
              "2       29769\n",
              "3       42640\n",
              "4       80655\n",
              "5      363122"
            ]
          },
          "metadata": {
            "tags": []
          },
          "execution_count": 7
        }
      ]
    },
    {
      "cell_type": "code",
      "metadata": {
        "colab": {
          "base_uri": "https://localhost:8080/",
          "height": 407
        },
        "id": "kDhbF8vfmOGr",
        "outputId": "a6a6973a-6979-42f5-8ea1-c57094ba70a5"
      },
      "source": [
        "#Make the distribution balanced\n",
        "df_score5 = df_target[df_target['Score']==5]\n",
        "df_score5 = df_score5.sample(frac = 0.08,random_state=42)\n",
        "df_score4 = df_target[df_target['Score']==4]\n",
        "df_score4 = df_score4.sample(frac = 0.3,random_state=42)\n",
        "df_score3 = df_target[df_target['Score']==3]\n",
        "df_score3 = df_score3.sample(frac = 0.5,random_state=42)\n",
        "df_score2 = df_target[df_target['Score']==2]\n",
        "df_score2 = df_score2.sample(frac = 0.9,random_state=42)\n",
        "df_score1 = df_target[df_target['Score']==1]\n",
        "df_score1 = df_score1.sample(frac = 0.55,random_state=42)\n",
        "\n",
        "df_balanced = pd.concat([df_score5,df_score4,df_score3,df_score2,df_score1],axis=0)\n",
        "df_balanced = df_balanced.sample(frac=1,random_state=42)\n",
        "df_balanced\n"
      ],
      "execution_count": null,
      "outputs": [
        {
          "output_type": "execute_result",
          "data": {
            "text/html": [
              "<div>\n",
              "<style scoped>\n",
              "    .dataframe tbody tr th:only-of-type {\n",
              "        vertical-align: middle;\n",
              "    }\n",
              "\n",
              "    .dataframe tbody tr th {\n",
              "        vertical-align: top;\n",
              "    }\n",
              "\n",
              "    .dataframe thead th {\n",
              "        text-align: right;\n",
              "    }\n",
              "</style>\n",
              "<table border=\"1\" class=\"dataframe\">\n",
              "  <thead>\n",
              "    <tr style=\"text-align: right;\">\n",
              "      <th></th>\n",
              "      <th>Id</th>\n",
              "      <th>Score</th>\n",
              "      <th>Text</th>\n",
              "    </tr>\n",
              "  </thead>\n",
              "  <tbody>\n",
              "    <tr>\n",
              "      <th>465223</th>\n",
              "      <td>465224</td>\n",
              "      <td>1</td>\n",
              "      <td>I love Amazon...but this product showed up wit...</td>\n",
              "    </tr>\n",
              "    <tr>\n",
              "      <th>4698</th>\n",
              "      <td>4699</td>\n",
              "      <td>3</td>\n",
              "      <td>The set is bigger than I thought it would be. ...</td>\n",
              "    </tr>\n",
              "    <tr>\n",
              "      <th>143999</th>\n",
              "      <td>144000</td>\n",
              "      <td>4</td>\n",
              "      <td>Clorets has been my favorite gum since the 80'...</td>\n",
              "    </tr>\n",
              "    <tr>\n",
              "      <th>298975</th>\n",
              "      <td>298976</td>\n",
              "      <td>4</td>\n",
              "      <td>Slightly richer chocolate taste over the milk ...</td>\n",
              "    </tr>\n",
              "    <tr>\n",
              "      <th>361440</th>\n",
              "      <td>361441</td>\n",
              "      <td>1</td>\n",
              "      <td>As a connoissuer of a wide variety of fine loo...</td>\n",
              "    </tr>\n",
              "    <tr>\n",
              "      <th>...</th>\n",
              "      <td>...</td>\n",
              "      <td>...</td>\n",
              "      <td>...</td>\n",
              "    </tr>\n",
              "    <tr>\n",
              "      <th>370885</th>\n",
              "      <td>370886</td>\n",
              "      <td>1</td>\n",
              "      <td>Item tasted plain and was crumbly. Did not tas...</td>\n",
              "    </tr>\n",
              "    <tr>\n",
              "      <th>245916</th>\n",
              "      <td>245917</td>\n",
              "      <td>1</td>\n",
              "      <td>First of all, the picture that Amazon has with...</td>\n",
              "    </tr>\n",
              "    <tr>\n",
              "      <th>18990</th>\n",
              "      <td>18991</td>\n",
              "      <td>5</td>\n",
              "      <td>Shipment arrived on time and in good condition...</td>\n",
              "    </tr>\n",
              "    <tr>\n",
              "      <th>105286</th>\n",
              "      <td>105287</td>\n",
              "      <td>5</td>\n",
              "      <td>I'm a big fan of the Blue Diamond brand almond...</td>\n",
              "    </tr>\n",
              "    <tr>\n",
              "      <th>436911</th>\n",
              "      <td>436912</td>\n",
              "      <td>1</td>\n",
              "      <td>I like to give my puppy healthy , nutritious f...</td>\n",
              "    </tr>\n",
              "  </tbody>\n",
              "</table>\n",
              "<p>130105 rows × 3 columns</p>\n",
              "</div>"
            ],
            "text/plain": [
              "            Id  Score                                               Text\n",
              "465223  465224      1  I love Amazon...but this product showed up wit...\n",
              "4698      4699      3  The set is bigger than I thought it would be. ...\n",
              "143999  144000      4  Clorets has been my favorite gum since the 80'...\n",
              "298975  298976      4  Slightly richer chocolate taste over the milk ...\n",
              "361440  361441      1  As a connoissuer of a wide variety of fine loo...\n",
              "...        ...    ...                                                ...\n",
              "370885  370886      1  Item tasted plain and was crumbly. Did not tas...\n",
              "245916  245917      1  First of all, the picture that Amazon has with...\n",
              "18990    18991      5  Shipment arrived on time and in good condition...\n",
              "105286  105287      5  I'm a big fan of the Blue Diamond brand almond...\n",
              "436911  436912      1  I like to give my puppy healthy , nutritious f...\n",
              "\n",
              "[130105 rows x 3 columns]"
            ]
          },
          "metadata": {
            "tags": []
          },
          "execution_count": 8
        }
      ]
    },
    {
      "cell_type": "code",
      "metadata": {
        "colab": {
          "base_uri": "https://localhost:8080/",
          "height": 294
        },
        "id": "fxwV7437mOIA",
        "outputId": "bfb9a7af-dad0-4a4b-8a21-d4c0e07f950b"
      },
      "source": [
        "#Check the Score Distribution\n",
        "fig, ax = plt.subplots()\n",
        "fig.suptitle(\"Score Distribution\", fontsize=12)\n",
        "df_balanced['Score'].reset_index().groupby('Score').count().sort_values(by= \n",
        "       \"index\").plot(kind=\"barh\", legend=False, \n",
        "        ax=ax).grid(axis='x')\n",
        "plt.show()"
      ],
      "execution_count": null,
      "outputs": [
        {
          "output_type": "display_data",
          "data": {
            "image/png": "[encoded data removed]",
            "text/plain": [
              "<Figure size 432x288 with 1 Axes>"
            ]
          },
          "metadata": {
            "tags": [],
            "needs_background": "light"
          }
        }
      ]
    },
    {
      "cell_type": "code",
      "metadata": {
        "id": "EPErFM6PppZj"
      },
      "source": [
        "df_target = df_balanced"
      ],
      "execution_count": null,
      "outputs": []
    },
    {
      "cell_type": "markdown",
      "metadata": {
        "id": "gNyN5nAaUviB"
      },
      "source": [
        "### Clean Text"
      ]
    },
    {
      "cell_type": "code",
      "metadata": {
        "id": "A4EgNsynU3qq"
      },
      "source": [
        "def utils_preprocess_text(text, flg_lemm=True, lst_stopwords=None):\n",
        "  '''\n",
        "  Tokenize\n",
        "  Stemming\n",
        "  Lemmation\n",
        "  '''\n",
        "  text = re.sub(r'[^\\w\\s]', '', str(text).lower().strip())\n",
        "          \n",
        "  ## Tokenize (convert from string to list)\n",
        "  lst_text = text.split()    ## remove Stopwords\n",
        "  if lst_stopwords is not None:\n",
        "    lst_text = [word for word in lst_text if word not in\n",
        "                lst_stopwords]\n",
        "              \n",
        "  ## convert the word into root word\n",
        "  if flg_lemm == True:\n",
        "    lem = nltk.stem.wordnet.WordNetLemmatizer()\n",
        "    lst_text = [lem.lemmatize(word) for word in lst_text]\n",
        "        \n",
        "  ## back to string from list\n",
        "  text = \" \".join(lst_text)\n",
        "  return text"
      ],
      "execution_count": null,
      "outputs": []
    },
    {
      "cell_type": "code",
      "metadata": {
        "id": "yp1VQBfMU3rl",
        "colab": {
          "base_uri": "https://localhost:8080/"
        },
        "outputId": "469c9876-f162-4d2c-ee2a-a2e044657fce"
      },
      "source": [
        "import nltk\n",
        "nltk.download('stopwords')\n",
        "nltk.download('wordnet')\n",
        "from nltk.corpus import stopwords\n",
        "lst_stopwords = stopwords.words(\"english\")\n",
        "# add the 'not' words back\n",
        "remove_list = ['ain','aren',\"aren't\",'couldn',\"couldn't\",'didn',\"didn't\",'doesn',\"doesn't\",'hadn',\"hadn't\",'hasn',\"hasn't\",'haven',\"haven't\",\n",
        "               'isn',\"isn't\",'ma','mightn',\"mightn't\",'mustn',\"mustn't\",'needn',\"needn't\",'shan',\"shan't\",'shouldn',\"shouldn't\",'wasn',\"wasn't\",\n",
        "               'weren',\"weren't\",'won',\"won't\",'wouldn',\"wouldn't\",'against','no','nor','not','don', \"don't\",'t','s','y','o','d','m']\n",
        "\n",
        "for delItem in remove_list:\n",
        "  lst_stopwords.remove(delItem)\n",
        "lst_stopwords"
      ],
      "execution_count": null,
      "outputs": [
        {
          "output_type": "stream",
          "text": [
            "[nltk_data] Downloading package stopwords to /root/nltk_data...\n",
            "[nltk_data]   Unzipping corpora/stopwords.zip.\n",
            "[nltk_data] Downloading package wordnet to /root/nltk_data...\n",
            "[nltk_data]   Unzipping corpora/wordnet.zip.\n"
          ],
          "name": "stdout"
        },
        {
          "output_type": "execute_result",
          "data": {
            "text/plain": [
              "['i',\n",
              " 'me',\n",
              " 'my',\n",
              " 'myself',\n",
              " 'we',\n",
              " 'our',\n",
              " 'ours',\n",
              " 'ourselves',\n",
              " 'you',\n",
              " \"you're\",\n",
              " \"you've\",\n",
              " \"you'll\",\n",
              " \"you'd\",\n",
              " 'your',\n",
              " 'yours',\n",
              " 'yourself',\n",
              " 'yourselves',\n",
              " 'he',\n",
              " 'him',\n",
              " 'his',\n",
              " 'himself',\n",
              " 'she',\n",
              " \"she's\",\n",
              " 'her',\n",
              " 'hers',\n",
              " 'herself',\n",
              " 'it',\n",
              " \"it's\",\n",
              " 'its',\n",
              " 'itself',\n",
              " 'they',\n",
              " 'them',\n",
              " 'their',\n",
              " 'theirs',\n",
              " 'themselves',\n",
              " 'what',\n",
              " 'which',\n",
              " 'who',\n",
              " 'whom',\n",
              " 'this',\n",
              " 'that',\n",
              " \"that'll\",\n",
              " 'these',\n",
              " 'those',\n",
              " 'am',\n",
              " 'is',\n",
              " 'are',\n",
              " 'was',\n",
              " 'were',\n",
              " 'be',\n",
              " 'been',\n",
              " 'being',\n",
              " 'have',\n",
              " 'has',\n",
              " 'had',\n",
              " 'having',\n",
              " 'do',\n",
              " 'does',\n",
              " 'did',\n",
              " 'doing',\n",
              " 'a',\n",
              " 'an',\n",
              " 'the',\n",
              " 'and',\n",
              " 'but',\n",
              " 'if',\n",
              " 'or',\n",
              " 'because',\n",
              " 'as',\n",
              " 'until',\n",
              " 'while',\n",
              " 'of',\n",
              " 'at',\n",
              " 'by',\n",
              " 'for',\n",
              " 'with',\n",
              " 'about',\n",
              " 'between',\n",
              " 'into',\n",
              " 'through',\n",
              " 'during',\n",
              " 'before',\n",
              " 'after',\n",
              " 'above',\n",
              " 'below',\n",
              " 'to',\n",
              " 'from',\n",
              " 'up',\n",
              " 'down',\n",
              " 'in',\n",
              " 'out',\n",
              " 'on',\n",
              " 'off',\n",
              " 'over',\n",
              " 'under',\n",
              " 'again',\n",
              " 'further',\n",
              " 'then',\n",
              " 'once',\n",
              " 'here',\n",
              " 'there',\n",
              " 'when',\n",
              " 'where',\n",
              " 'why',\n",
              " 'how',\n",
              " 'all',\n",
              " 'any',\n",
              " 'both',\n",
              " 'each',\n",
              " 'few',\n",
              " 'more',\n",
              " 'most',\n",
              " 'other',\n",
              " 'some',\n",
              " 'such',\n",
              " 'only',\n",
              " 'own',\n",
              " 'same',\n",
              " 'so',\n",
              " 'than',\n",
              " 'too',\n",
              " 'very',\n",
              " 'can',\n",
              " 'will',\n",
              " 'just',\n",
              " 'should',\n",
              " \"should've\",\n",
              " 'now',\n",
              " 'll',\n",
              " 're',\n",
              " 've']"
            ]
          },
          "metadata": {
            "tags": []
          },
          "execution_count": 12
        }
      ]
    },
    {
      "cell_type": "code",
      "metadata": {
        "colab": {
          "base_uri": "https://localhost:8080/"
        },
        "id": "I8xKAJOIWRb0",
        "outputId": "302103fe-2969-4051-a8c4-a8887051ce98"
      },
      "source": [
        "lst_stopwords[:10]"
      ],
      "execution_count": null,
      "outputs": [
        {
          "output_type": "execute_result",
          "data": {
            "text/plain": [
              "['i', 'me', 'my', 'myself', 'we', 'our', 'ours', 'ourselves', 'you', \"you're\"]"
            ]
          },
          "metadata": {
            "tags": []
          },
          "execution_count": 13
        }
      ]
    },
    {
      "cell_type": "code",
      "metadata": {
        "colab": {
          "base_uri": "https://localhost:8080/",
          "height": 198
        },
        "id": "erT1RnpbZvpP",
        "outputId": "f2abfe49-1b18-4988-c720-61bf76ed7b35"
      },
      "source": [
        "df_target[\"text_clean\"] = df_target[\"Text\"].apply(lambda x:\n",
        "utils_preprocess_text(x,flg_lemm=True,\n",
        "lst_stopwords=lst_stopwords))\n",
        "df_target.head()"
      ],
      "execution_count": null,
      "outputs": [
        {
          "output_type": "execute_result",
          "data": {
            "text/html": [
              "<div>\n",
              "<style scoped>\n",
              "    .dataframe tbody tr th:only-of-type {\n",
              "        vertical-align: middle;\n",
              "    }\n",
              "\n",
              "    .dataframe tbody tr th {\n",
              "        vertical-align: top;\n",
              "    }\n",
              "\n",
              "    .dataframe thead th {\n",
              "        text-align: right;\n",
              "    }\n",
              "</style>\n",
              "<table border=\"1\" class=\"dataframe\">\n",
              "  <thead>\n",
              "    <tr style=\"text-align: right;\">\n",
              "      <th></th>\n",
              "      <th>Id</th>\n",
              "      <th>Score</th>\n",
              "      <th>Text</th>\n",
              "      <th>text_clean</th>\n",
              "    </tr>\n",
              "  </thead>\n",
              "  <tbody>\n",
              "    <tr>\n",
              "      <th>465223</th>\n",
              "      <td>465224</td>\n",
              "      <td>1</td>\n",
              "      <td>I love Amazon...but this product showed up wit...</td>\n",
              "      <td>love amazonbut product showed le 2 month datin...</td>\n",
              "    </tr>\n",
              "    <tr>\n",
              "      <th>4698</th>\n",
              "      <td>4699</td>\n",
              "      <td>3</td>\n",
              "      <td>The set is bigger than I thought it would be. ...</td>\n",
              "      <td>set bigger thought would would take big cake s...</td>\n",
              "    </tr>\n",
              "    <tr>\n",
              "      <th>143999</th>\n",
              "      <td>144000</td>\n",
              "      <td>4</td>\n",
              "      <td>Clorets has been my favorite gum since the 80'...</td>\n",
              "      <td>clorets favorite gum since 80 stole piece mom ...</td>\n",
              "    </tr>\n",
              "    <tr>\n",
              "      <th>298975</th>\n",
              "      <td>298976</td>\n",
              "      <td>4</td>\n",
              "      <td>Slightly richer chocolate taste over the milk ...</td>\n",
              "      <td>slightly richer chocolate taste milk chocolate...</td>\n",
              "    </tr>\n",
              "    <tr>\n",
              "      <th>361440</th>\n",
              "      <td>361441</td>\n",
              "      <td>1</td>\n",
              "      <td>As a connoissuer of a wide variety of fine loo...</td>\n",
              "      <td>connoissuer wide variety fine loose tea sold t...</td>\n",
              "    </tr>\n",
              "  </tbody>\n",
              "</table>\n",
              "</div>"
            ],
            "text/plain": [
              "            Id  ...                                         text_clean\n",
              "465223  465224  ...  love amazonbut product showed le 2 month datin...\n",
              "4698      4699  ...  set bigger thought would would take big cake s...\n",
              "143999  144000  ...  clorets favorite gum since 80 stole piece mom ...\n",
              "298975  298976  ...  slightly richer chocolate taste milk chocolate...\n",
              "361440  361441  ...  connoissuer wide variety fine loose tea sold t...\n",
              "\n",
              "[5 rows x 4 columns]"
            ]
          },
          "metadata": {
            "tags": []
          },
          "execution_count": 14
        }
      ]
    },
    {
      "cell_type": "markdown",
      "metadata": {
        "id": "gO0Hb746FFpo"
      },
      "source": [
        "### Divide into 70% training dataset and 30% testing dataset. "
      ]
    },
    {
      "cell_type": "code",
      "metadata": {
        "id": "9p-2YDKdFQyd"
      },
      "source": [
        "data_train,data_test = model_selection.train_test_split(df_target,test_size = 0.3)\n",
        "\n",
        "X_train = data_train['text_clean']\n",
        "X_test = data_test['text_clean']\n",
        "Y_train = data_train['Score']\n",
        "Y_test = data_test['Score']"
      ],
      "execution_count": null,
      "outputs": []
    },
    {
      "cell_type": "code",
      "metadata": {
        "id": "eii7RxAZXx1Z",
        "colab": {
          "base_uri": "https://localhost:8080/"
        },
        "outputId": "a933f5d5-e427-4b15-f08d-82e540952721"
      },
      "source": [
        "#Implement one hot encoding on the label\n",
        "from sklearn.preprocessing import OneHotEncoder\n",
        "y = np.asarray(Y_train)\n",
        "onehot_encoder = OneHotEncoder(sparse=False)\n",
        "y_train_onehot = y.reshape(len(y), 1)\n",
        "y_train_onehot = onehot_encoder.fit_transform(y_train_onehot)\n",
        "\n",
        "y = np.asarray(Y_test)\n",
        "onehot_encoder = OneHotEncoder(sparse=False)\n",
        "y_test_onehot = y.reshape(len(y), 1)\n",
        "y_test_onehot = onehot_encoder.fit_transform(y_test_onehot)\n",
        "y_test_onehot"
      ],
      "execution_count": null,
      "outputs": [
        {
          "output_type": "execute_result",
          "data": {
            "text/plain": [
              "array([[0., 0., 0., 0., 1.],\n",
              "       [1., 0., 0., 0., 0.],\n",
              "       [0., 1., 0., 0., 0.],\n",
              "       ...,\n",
              "       [0., 1., 0., 0., 0.],\n",
              "       [0., 1., 0., 0., 0.],\n",
              "       [0., 0., 0., 0., 1.]])"
            ]
          },
          "metadata": {
            "tags": []
          },
          "execution_count": 16
        }
      ]
    },
    {
      "cell_type": "markdown",
      "metadata": {
        "id": "QR1kkbVBcPlR"
      },
      "source": [
        "## 2.2 Tf-**Idf**\n",
        "Since directly using the bag of words will make the feature matrix quite large, we plan to use term frequency–inverse document frequency (Tf-Idf) to reduce the dimensionality problem."
      ]
    },
    {
      "cell_type": "markdown",
      "metadata": {
        "id": "m4s1QQVHdeqT"
      },
      "source": [
        "### Bag of words"
      ]
    },
    {
      "cell_type": "code",
      "metadata": {
        "id": "fi0jymMucPCU"
      },
      "source": [
        "# if we directly extract the features of text_clean \n",
        "# Set the maximum number of features to be 20000\n",
        "vectorizer = feature_extraction.text.CountVectorizer(max_features=20000, ngram_range=(1,2))"
      ],
      "execution_count": null,
      "outputs": []
    },
    {
      "cell_type": "code",
      "metadata": {
        "colab": {
          "base_uri": "https://localhost:8080/"
        },
        "id": "_EVr6p7UcPDh",
        "outputId": "6c53b2c3-41b0-4bd1-969c-6edd30158d2f"
      },
      "source": [
        "corpus = X_train\n",
        "vectorizer.fit(corpus)\n",
        "X_train_trans = vectorizer.transform(X_train)\n",
        "# dic_vocabulary = vectorizer.vocabulary_\n",
        "X_train_trans.shape"
      ],
      "execution_count": null,
      "outputs": [
        {
          "output_type": "execute_result",
          "data": {
            "text/plain": [
              "(91073, 20000)"
            ]
          },
          "metadata": {
            "tags": []
          },
          "execution_count": 18
        }
      ]
    },
    {
      "cell_type": "markdown",
      "metadata": {
        "id": "VwtMV9NGWemp"
      },
      "source": [
        "### Using chi-square to remove irelevant features"
      ]
    },
    {
      "cell_type": "code",
      "metadata": {
        "colab": {
          "base_uri": "https://localhost:8080/"
        },
        "id": "of2Ty1d9TDlK",
        "outputId": "23c7fc28-c5b7-49c7-fb5d-7317a0cf1790"
      },
      "source": [
        "'''\n",
        "Remove the features whose p-value is less than 0.96\n",
        "'''\n",
        "from sklearn import feature_selection\n",
        "X_try = X_train_trans\n",
        "y_try = Y_train\n",
        "X_names = vectorizer.get_feature_names()\n",
        "p_value_limit = 0.96\n",
        "df_features = pd.DataFrame()\n",
        "for cat in np.unique(y_try):\n",
        "    chi2, p = feature_selection.chi2(X_try, y_try==cat)\n",
        "    df_features = df_features.append(pd.DataFrame(\n",
        "                   {\"feature\":X_names, \"score\":1-p, \"y\":cat}))\n",
        "    df_features = df_features.sort_values([\"y\",\"score\"], \n",
        "                    ascending=[True,False])\n",
        "    df_features = df_features[df_features[\"score\"]>p_value_limit]\n",
        "X_names = df_features[\"feature\"].unique().tolist()\n",
        "len(X_names)"
      ],
      "execution_count": null,
      "outputs": [
        {
          "output_type": "execute_result",
          "data": {
            "text/plain": [
              "16381"
            ]
          },
          "metadata": {
            "tags": []
          },
          "execution_count": 91
        }
      ]
    },
    {
      "cell_type": "markdown",
      "metadata": {
        "id": "w4R-3DM4XDxQ"
      },
      "source": [
        "We notice that the number of features decreased from 20,000 to 16381"
      ]
    },
    {
      "cell_type": "markdown",
      "metadata": {
        "id": "vdVL3_LOXm6d"
      },
      "source": [
        "### Implement Tf-Idf "
      ]
    },
    {
      "cell_type": "code",
      "metadata": {
        "id": "3dGCmrPeVaru"
      },
      "source": [
        "\n",
        "# The feature was represent by the frequency how commonly they occur in some datasets \n",
        "vectorizer = feature_extraction.text.TfidfVectorizer(vocabulary=X_names)\n",
        "vectorizer.fit(corpus)\n",
        "X_train = vectorizer.transform(X_train)\n"
      ],
      "execution_count": null,
      "outputs": []
    },
    {
      "cell_type": "code",
      "metadata": {
        "colab": {
          "base_uri": "https://localhost:8080/"
        },
        "id": "qycZD2opqab6",
        "outputId": "c581aa12-b6c3-4405-9075-19c8e6f8f440"
      },
      "source": [
        "print(X_train[0])"
      ],
      "execution_count": null,
      "outputs": [
        {
          "output_type": "stream",
          "text": [
            "  (0, 15693)\t0.2686922907443722\n",
            "  (0, 13915)\t0.10869201855200344\n",
            "  (0, 12738)\t0.19074537311420195\n",
            "  (0, 10921)\t0.2260722871172582\n",
            "  (0, 9873)\t0.12813784524308855\n",
            "  (0, 8901)\t0.1659179826695976\n",
            "  (0, 5843)\t0.1871641747522728\n",
            "  (0, 5490)\t0.15780456659310566\n",
            "  (0, 2465)\t0.3120358572222012\n",
            "  (0, 2104)\t0.09230203966451628\n",
            "  (0, 2056)\t0.17043143655910237\n",
            "  (0, 1755)\t0.11473823276103462\n",
            "  (0, 1625)\t0.13814753511180636\n",
            "  (0, 1578)\t0.15891577394477577\n",
            "  (0, 1556)\t0.13380968558759493\n",
            "  (0, 1128)\t0.092535829256702\n",
            "  (0, 1058)\t0.11839575739980847\n",
            "  (0, 1043)\t0.195685306765782\n",
            "  (0, 1008)\t0.19577765633016633\n",
            "  (0, 988)\t0.13955765364799735\n",
            "  (0, 893)\t0.24523327377870635\n",
            "  (0, 844)\t0.2419430743873203\n",
            "  (0, 782)\t0.0879827914686963\n",
            "  (0, 779)\t0.23821053055952363\n",
            "  (0, 752)\t0.18211752179114934\n",
            "  (0, 706)\t0.0638315226420767\n",
            "  (0, 526)\t0.15428986471174344\n",
            "  (0, 473)\t0.10146137618998233\n",
            "  (0, 179)\t0.16384732026185886\n",
            "  (0, 134)\t0.11012241511637864\n",
            "  (0, 110)\t0.12254242814149514\n",
            "  (0, 33)\t0.2365601420427902\n",
            "  (0, 21)\t0.17647873333417122\n"
          ],
          "name": "stdout"
        }
      ]
    },
    {
      "cell_type": "markdown",
      "metadata": {
        "id": "YpB9cHgDzT9y"
      },
      "source": [
        "## 2.3 Bayes’ Model"
      ]
    },
    {
      "cell_type": "code",
      "metadata": {
        "id": "VODhMfwgjX3i"
      },
      "source": [
        "classifier = naive_bayes.MultinomialNB()\n",
        "## pipeline\n",
        "model = pipeline.Pipeline([(\"vectorizer\", vectorizer),  \n",
        "              (\"classifier\", classifier)])\n",
        "## train classifier\n",
        "model[\"classifier\"].fit(X_train, Y_train)\n",
        "## test\n",
        "Y_predicted = model.predict(X_test)\n",
        "predicted_prob = model.predict_proba(X_test)"
      ],
      "execution_count": null,
      "outputs": []
    },
    {
      "cell_type": "markdown",
      "metadata": {
        "id": "KqQzPjZKZJyD"
      },
      "source": [
        "> Display the prediction results"
      ]
    },
    {
      "cell_type": "code",
      "metadata": {
        "colab": {
          "base_uri": "https://localhost:8080/"
        },
        "id": "UO03oDCYZL4f",
        "outputId": "e1b6663f-908f-4b73-995a-b5f9b23de952"
      },
      "source": [
        "from sklearn import metrics \n",
        "classes = np.unique(Y_test)\n",
        "y_test_values = pd.get_dummies(Y_test, drop_first=False).values\n",
        "# Accuracy, Auc\n",
        "accuracy = metrics.accuracy_score(Y_test, Y_predicted)\n",
        "auc = metrics.roc_auc_score(Y_test, predicted_prob,multi_class=\"ovr\")\n",
        "print(\"Accuracy:\", round(accuracy,2))\n",
        "print(\"Auc:\", round(auc,2))\n",
        "print(\"Detail:\")\n",
        "print(metrics.classification_report(Y_test, Y_predicted))"
      ],
      "execution_count": null,
      "outputs": [
        {
          "output_type": "stream",
          "text": [
            "Accuracy: 0.52\n",
            "Auc: 0.81\n",
            "Detail:\n",
            "              precision    recall  f1-score   support\n",
            "\n",
            "           1       0.57      0.69      0.62      8701\n",
            "           2       0.43      0.52      0.47      7915\n",
            "           3       0.52      0.13      0.21      6426\n",
            "           4       0.45      0.35      0.39      7249\n",
            "           5       0.57      0.76      0.65      8741\n",
            "\n",
            "    accuracy                           0.52     39032\n",
            "   macro avg       0.51      0.49      0.47     39032\n",
            "weighted avg       0.51      0.52      0.49     39032\n",
            "\n"
          ],
          "name": "stdout"
        }
      ]
    },
    {
      "cell_type": "markdown",
      "metadata": {
        "id": "nLl3lhywWej2"
      },
      "source": [
        "The previous scores are not high enough, draw out the confusion matrix to find out the gap.\n"
      ]
    },
    {
      "cell_type": "code",
      "metadata": {
        "colab": {
          "base_uri": "https://localhost:8080/",
          "height": 313
        },
        "id": "l1f049jtjr0s",
        "outputId": "8ee4b10b-687e-4982-bc29-d1d59ef76cd8"
      },
      "source": [
        "# Plot confusion matrix\n",
        "confusion_matrix = metrics.confusion_matrix(Y_test, Y_predicted)\n",
        "fig, ax = plt.subplots()\n",
        "sns.heatmap(confusion_matrix, annot=True, fmt='d', ax=ax, cmap=plt.cm.Reds)\n",
        "ax.set(xlabel=\"Prediction\", ylabel=\"True\", xticklabels=classes, \n",
        "       yticklabels=classes, title=\"Confusion matrix\")\n",
        "plt.yticks(rotation=0)"
      ],
      "execution_count": null,
      "outputs": [
        {
          "output_type": "execute_result",
          "data": {
            "text/plain": [
              "(array([0.5, 1.5, 2.5, 3.5, 4.5]), <a list of 5 Text major ticklabel objects>)"
            ]
          },
          "metadata": {
            "tags": []
          },
          "execution_count": 96
        },
        {
          "output_type": "display_data",
          "data": {
            "image/png": "[encoded data removed]",
            "text/plain": [
              "<Figure size 432x288 with 2 Axes>"
            ]
          },
          "metadata": {
            "tags": [],
            "needs_background": "light"
          }
        }
      ]
    },
    {
      "cell_type": "markdown",
      "metadata": {
        "id": "Q_tYFJoaW9k3"
      },
      "source": [
        "> Here we found that it was more difficult to distinguish between adjacent evaluations.\n",
        "\n",
        "> Probably because there is no clear boundary between adjacent comment scores (such as 4 and 5).Also we may consider to use word embedding method to decrease the number of features. "
      ]
    },
    {
      "cell_type": "markdown",
      "metadata": {
        "id": "3dZsqlWydj53"
      },
      "source": [
        "## 2.4 Word Embedding"
      ]
    },
    {
      "cell_type": "code",
      "metadata": {
        "id": "3HYqmoWicfBR"
      },
      "source": [
        "corpus = df_target[\"text_clean\"]\n",
        "## create list of lists of unigrams\n",
        "save_corpus = []\n",
        "for text in corpus:\n",
        "  list_words = text.split()\n",
        "  save_corpus.append(list_words)              "
      ],
      "execution_count": null,
      "outputs": []
    },
    {
      "cell_type": "code",
      "metadata": {
        "id": "VSoLuuK9Ztmk"
      },
      "source": [
        "nlp = gensim.models.word2vec.Word2Vec(save_corpus,size = 200, sg=1, iter=10)\n",
        "word = 'like'\n",
        "nlp[word]"
      ],
      "execution_count": null,
      "outputs": []
    },
    {
      "cell_type": "code",
      "metadata": {
        "id": "4WKxncY4GXmj"
      },
      "source": [
        "X_train = data_train['text_clean']\n",
        "X_test = data_test['text_clean']\n",
        "Y_train = data_train['Score']\n",
        "Y_test = data_test['Score']"
      ],
      "execution_count": null,
      "outputs": []
    },
    {
      "cell_type": "code",
      "metadata": {
        "id": "_wMX-1fm0S3R"
      },
      "source": [
        "# Create training corpus\n",
        "X_train_corpus = []\n",
        "for text in X_train:\n",
        "  list_words = text.split()\n",
        "  X_train_corpus.append(list_words) \n",
        "X_test_corpus = []\n",
        "for text in X_test:\n",
        "  list_words = text.split()\n",
        "  X_test_corpus.append(list_words) "
      ],
      "execution_count": null,
      "outputs": []
    },
    {
      "cell_type": "code",
      "metadata": {
        "id": "eDc-rNvDwhn3"
      },
      "source": [
        "# Select the word for X_train corpus\n",
        "tokenizer = tf.keras.preprocessing.text.Tokenizer(\n",
        "num_words=None,\n",
        "filters='!\"#$%&()*+,-./:;<=>?@[\\\\]^_`{|}~\\t\\n',\n",
        "lower=True, split=' ', oov_token=None\n",
        ")\n",
        "tokenizer.fit_on_texts(X_train_corpus)\n",
        "# create the dictionary \n",
        "dic_vocabulary = tokenizer.word_index\n",
        "# convert the sentence into the list \n",
        "X_train_list_text= tokenizer.texts_to_sequences(X_train_corpus)"
      ],
      "execution_count": null,
      "outputs": []
    },
    {
      "cell_type": "code",
      "metadata": {
        "colab": {
          "base_uri": "https://localhost:8080/"
        },
        "id": "VA0wA2cG2AEj",
        "outputId": "04a536cf-9184-44b2-ab81-f37472504173"
      },
      "source": [
        "length_save = [len(s) for s in X_train_list_text]\n",
        "max(length_save)"
      ],
      "execution_count": null,
      "outputs": [
        {
          "output_type": "execute_result",
          "data": {
            "text/plain": [
              "2010"
            ]
          },
          "metadata": {
            "tags": []
          },
          "execution_count": 23
        }
      ]
    },
    {
      "cell_type": "code",
      "metadata": {
        "colab": {
          "base_uri": "https://localhost:8080/"
        },
        "id": "2MG-xmIBvy9t",
        "outputId": "3daf1bcd-4df8-4162-d9f6-dc75bd78f313"
      },
      "source": [
        "# padding the list with maximum length of max(length_save)\n",
        "X_train_index = kprocessing.sequence.pad_sequences(X_train_list_text, \n",
        "                    maxlen=max(length_save), padding=\"post\", truncating=\"post\")\n",
        "X_train_index"
      ],
      "execution_count": null,
      "outputs": [
        {
          "output_type": "execute_result",
          "data": {
            "text/plain": [
              "array([[ 4680,   861,     6, ...,     0,     0,     0],\n",
              "       [   19,    17,    62, ...,     0,     0,     0],\n",
              "       [  322,     1,   647, ...,     0,     0,     0],\n",
              "       ...,\n",
              "       [ 2339,     5,    43, ...,     0,     0,     0],\n",
              "       [  891,   401, 16229, ...,     0,     0,     0],\n",
              "       [   16,     8,   864, ...,     0,     0,     0]], dtype=int32)"
            ]
          },
          "metadata": {
            "tags": []
          },
          "execution_count": 24
        }
      ]
    },
    {
      "cell_type": "code",
      "metadata": {
        "colab": {
          "base_uri": "https://localhost:8080/"
        },
        "id": "iiAGJmjRAAsu",
        "outputId": "033184a7-915e-47e2-f6e2-ae562aed7d6b"
      },
      "source": [
        "# Select the word for X_test corpus\n",
        "tokenizer2 = tf.keras.preprocessing.text.Tokenizer(\n",
        "num_words=None,\n",
        "filters='!\"#$%&()*+,-./:;<=>?@[\\\\]^_`{|}~\\t\\n',\n",
        "lower=True, split=' ', oov_token=None\n",
        ")\n",
        "tokenizer2.fit_on_texts(X_test_corpus)\n",
        "# convert the sentence into the list \n",
        "X_test_list_text= tokenizer2.texts_to_sequences(X_test_corpus)\n",
        "# padding the list with maximum length of max(length_save)\n",
        "X_test_index = kprocessing.sequence.pad_sequences(X_test_list_text, \n",
        "                    maxlen=max(length_save), padding=\"post\", truncating=\"post\")\n",
        "X_test_index"
      ],
      "execution_count": null,
      "outputs": [
        {
          "output_type": "execute_result",
          "data": {
            "text/plain": [
              "array([[    1, 11921,   482, ...,     0,     0,     0],\n",
              "       [   18,     1,     2, ...,     0,     0,     0],\n",
              "       [   15,  1488,  1477, ...,     0,     0,     0],\n",
              "       ...,\n",
              "       [  101,   504,   769, ...,     0,     0,     0],\n",
              "       [    5, 12058,   623, ...,     0,     0,     0],\n",
              "       [  956, 54389,  5984, ...,     0,     0,     0]], dtype=int32)"
            ]
          },
          "metadata": {
            "tags": []
          },
          "execution_count": 25
        }
      ]
    },
    {
      "cell_type": "code",
      "metadata": {
        "colab": {
          "base_uri": "https://localhost:8080/"
        },
        "id": "OwHxVoDSzdSp",
        "outputId": "3004388f-b149-468f-e8ab-375297f7f837"
      },
      "source": [
        "#Save the embeddings matrix\n",
        "embeddings = np.zeros((len(dic_vocabulary)+1, 200))\n",
        "for word,idx in dic_vocabulary.items():\n",
        "  try:\n",
        "    embeddings[idx] =  nlp[word]\n",
        "  except:\n",
        "    pass\n",
        "print(len(embeddings))"
      ],
      "execution_count": null,
      "outputs": [
        {
          "output_type": "stream",
          "text": [
            "/usr/local/lib/python3.7/dist-packages/ipykernel_launcher.py:5: DeprecationWarning: Call to deprecated `__getitem__` (Method will be removed in 4.0.0, use self.wv.__getitem__() instead).\n",
            "  \"\"\"\n"
          ],
          "name": "stderr"
        },
        {
          "output_type": "stream",
          "text": [
            "85244\n"
          ],
          "name": "stdout"
        }
      ]
    },
    {
      "cell_type": "markdown",
      "metadata": {
        "id": "EcH7CyX8hE6F"
      },
      "source": [
        "## 2.5 Neural network"
      ]
    },
    {
      "cell_type": "markdown",
      "metadata": {
        "id": "2a-IGme4BSPx"
      },
      "source": [
        "> Input: the original sentence with the word index (m,n)\n",
        "\n",
        "m: the number of comments\n",
        "n: the length of each comment sentence after padding\n",
        "\n",
        ">  Embedding layer output: (nxp)\n",
        "n: the length of each comment sentence after padding\n",
        "p: the embedding matrix for each word index\n"
      ]
    },
    {
      "cell_type": "code",
      "metadata": {
        "colab": {
          "base_uri": "https://localhost:8080/"
        },
        "id": "yD2nQOLopA29",
        "outputId": "2e2b8247-636f-4888-be77-e8cb162433a0"
      },
      "source": [
        "embeddings.shape"
      ],
      "execution_count": null,
      "outputs": [
        {
          "output_type": "execute_result",
          "data": {
            "text/plain": [
              "(85244, 200)"
            ]
          },
          "metadata": {
            "tags": []
          },
          "execution_count": 37
        }
      ]
    },
    {
      "cell_type": "markdown",
      "metadata": {
        "id": "nEsah_qxqyMD"
      },
      "source": [
        "The size of the embedding matrix is too large to excute...\n",
        "\n",
        "Maybe it can be solved in the future......."
      ]
    },
    {
      "cell_type": "code",
      "metadata": {
        "id": "pZXPiq07yu9a",
        "colab": {
          "base_uri": "https://localhost:8080/"
        },
        "outputId": "018a7b2d-d027-4c6c-f503-983fe0680549"
      },
      "source": [
        "# len_comment_index = max(length_save)\n",
        "# # input layer\n",
        "# x_in = layers.Input(shape=(len_comment_index,))\n",
        "# # embedding layer \n",
        "# x = layers.Embedding(input_dim=embeddings.shape[0],  \n",
        "#             output_dim=embeddings.shape[1], \n",
        "            \n",
        "#             trainable=False)(x_in)\n",
        "\n",
        "# # 4 layers of bidirectional lstm\n",
        "# x = layers.Bidirectional(layers.LSTM(units=len_comment_index, dropout=0.2, \n",
        "#                          return_sequences=True))(x)\n",
        "# x = layers.Bidirectional(layers.LSTM(units=len_comment_index, dropout=0.2,\n",
        "#                          return_sequences=True))(x)\n",
        "\n",
        "# x = layers.Bidirectional(layers.LSTM(units=60, dropout=0.2,\n",
        "#                          return_sequences=True))(x)\n",
        "\n",
        "# x = layers.Bidirectional(layers.LSTM(units=30, dropout=0.2))(x)\n",
        "\n",
        "\n",
        "# ## final dense layers\n",
        "# y_out = layers.Dense(20,activation='relu')(x)\n",
        "# y_out = layers.Dense(5,activation='softmax')(y_out)\n",
        "\n",
        "# ## compile\n",
        "# model = models.Model(x_in, y_out)\n",
        "# model.compile(loss='categorical_crossentropy',\n",
        "#        optimizer='adagrad', metrics=['accuracy'])\n",
        "\n",
        "# model.summary()\n"
      ],
      "execution_count": null,
      "outputs": [
        {
          "output_type": "stream",
          "text": [
            "Model: \"model\"\n",
            "_________________________________________________________________\n",
            "Layer (type)                 Output Shape              Param #   \n",
            "=================================================================\n",
            "input_1 (InputLayer)         [(None, 2010)]            0         \n",
            "_________________________________________________________________\n",
            "embedding (Embedding)        (None, 2010, 200)         17048800  \n",
            "_________________________________________________________________\n",
            "bidirectional (Bidirectional (None, 2010, 4020)        35552880  \n",
            "_________________________________________________________________\n",
            "bidirectional_1 (Bidirection (None, 2010, 4020)        96978480  \n",
            "_________________________________________________________________\n",
            "bidirectional_2 (Bidirection (None, 2010, 120)         1958880   \n",
            "_________________________________________________________________\n",
            "bidirectional_3 (Bidirection (None, 60)                36240     \n",
            "_________________________________________________________________\n",
            "dense (Dense)                (None, 20)                1220      \n",
            "_________________________________________________________________\n",
            "dense_1 (Dense)              (None, 5)                 105       \n",
            "=================================================================\n",
            "Total params: 151,576,605\n",
            "Trainable params: 134,527,805\n",
            "Non-trainable params: 17,048,800\n",
            "_________________________________________________________________\n"
          ],
          "name": "stdout"
        }
      ]
    },
    {
      "cell_type": "markdown",
      "metadata": {
        "id": "NbMYvsy0thZe"
      },
      "source": [
        "Instead, using the embedding layer provided by the keras."
      ]
    },
    {
      "cell_type": "code",
      "metadata": {
        "colab": {
          "base_uri": "https://localhost:8080/"
        },
        "id": "rVRrddXDjE9o",
        "outputId": "d9385cb0-f914-43e9-b91d-387213f5b9fd"
      },
      "source": [
        "from keras.preprocessing.text import Tokenizer\n",
        "# Keras tokenizer\n",
        "t = Tokenizer()\n",
        "t.fit_on_texts(save_corpus)\n",
        "# encode text to integer array\n",
        "encoded_docs = t.texts_to_sequences(save_corpus) \n",
        "# get number of vocabulary in the dict\n",
        "vocab_num = len(t.word_counts)\n",
        "# find the length of the longest review\n",
        "max_length = max([len(p) for p in encoded_docs])\n",
        "print(\"number of vocabulary in the dict: %d\" % vocab_num)\n",
        "print(\"longest review length: %d\" % max_length)"
      ],
      "execution_count": null,
      "outputs": [
        {
          "output_type": "stream",
          "text": [
            "number of vocabulary in the dict: 103338\n",
            "longest review length: 2010\n"
          ],
          "name": "stdout"
        }
      ]
    },
    {
      "cell_type": "code",
      "metadata": {
        "colab": {
          "base_uri": "https://localhost:8080/"
        },
        "id": "jP8-PO0_jFCJ",
        "outputId": "6849d1fb-415b-45ab-d548-be0515ff9574"
      },
      "source": [
        "from keras.preprocessing.sequence import pad_sequences\n",
        "pad_comments = pad_sequences(encoded_docs, maxlen=max_length, padding='post')\n",
        "pad_comments.shape"
      ],
      "execution_count": null,
      "outputs": [
        {
          "output_type": "execute_result",
          "data": {
            "text/plain": [
              "(130105, 2010)"
            ]
          },
          "metadata": {
            "tags": []
          },
          "execution_count": 59
        }
      ]
    },
    {
      "cell_type": "code",
      "metadata": {
        "id": "H37yMwnrjJIZ"
      },
      "source": [
        "from sklearn.preprocessing import OneHotEncoder\n",
        "y = np.asarray(df_target['Score'])\n",
        "onehot_encoder = OneHotEncoder(sparse=False)\n",
        "y_onehot = y.reshape(len(y), 1)\n",
        "y_onehot = onehot_encoder.fit_transform(y_onehot)"
      ],
      "execution_count": null,
      "outputs": []
    },
    {
      "cell_type": "code",
      "metadata": {
        "id": "sIJhKvbBjKjM"
      },
      "source": [
        "X_train, X_test, y_train, y_test = model_selection.train_test_split(pad_comments,y_onehot, test_size=0.2, random_state = 42)"
      ],
      "execution_count": null,
      "outputs": []
    },
    {
      "cell_type": "code",
      "metadata": {
        "colab": {
          "base_uri": "https://localhost:8080/"
        },
        "id": "3ymVxf1-jMFV",
        "outputId": "81bd55b8-c181-4a05-d98a-5dba3be1b743"
      },
      "source": [
        "from keras.models import Sequential\n",
        "from keras.layers import Dense\n",
        "from keras.layers import Flatten\n",
        "from keras.layers import Embedding\n",
        "# define the model\n",
        "model = Sequential()\n",
        "model.add(Embedding(vocab_num+1, 10, input_length=max_length))\n",
        "model.add(Flatten())\n",
        "model.add(Dense(64, activation='relu'))\n",
        "model.add(Dense(128, activation='relu'))\n",
        "model.add(Dense(64, activation='relu'))\n",
        "model.add(Dense(5, activation='softmax'))\n",
        "# compile the model\n",
        "model.compile(optimizer='adagrad', loss='categorical_crossentropy', metrics=['accuracy'])\n",
        "# summarize the model\n",
        "print(model.summary())\n",
        "# fit the model\n",
        "history = model.fit(X_train, y_train, epochs=150, validation_split=0.2)"
      ],
      "execution_count": null,
      "outputs": [
        {
          "output_type": "stream",
          "text": [
            "Model: \"sequential_2\"\n",
            "_________________________________________________________________\n",
            "Layer (type)                 Output Shape              Param #   \n",
            "=================================================================\n",
            "embedding_2 (Embedding)      (None, 2010, 10)          1033390   \n",
            "_________________________________________________________________\n",
            "flatten_2 (Flatten)          (None, 20100)             0         \n",
            "_________________________________________________________________\n",
            "dense_8 (Dense)              (None, 64)                1286464   \n",
            "_________________________________________________________________\n",
            "dense_9 (Dense)              (None, 128)               8320      \n",
            "_________________________________________________________________\n",
            "dense_10 (Dense)             (None, 64)                8256      \n",
            "_________________________________________________________________\n",
            "dense_11 (Dense)             (None, 5)                 325       \n",
            "=================================================================\n",
            "Total params: 2,336,755\n",
            "Trainable params: 2,336,755\n",
            "Non-trainable params: 0\n",
            "_________________________________________________________________\n",
            "None\n",
            "Epoch 1/150\n",
            "2603/2603 [==============================] - 17s 6ms/step - loss: 1.6040 - accuracy: 0.2233 - val_loss: 1.6022 - val_accuracy: 0.2361\n",
            "Epoch 2/150\n",
            "2603/2603 [==============================] - 15s 6ms/step - loss: 1.6014 - accuracy: 0.2368 - val_loss: 1.6010 - val_accuracy: 0.2430\n",
            "Epoch 3/150\n",
            "2603/2603 [==============================] - 15s 6ms/step - loss: 1.6002 - accuracy: 0.2414 - val_loss: 1.6004 - val_accuracy: 0.2443\n",
            "Epoch 4/150\n",
            "2603/2603 [==============================] - 15s 6ms/step - loss: 1.5986 - accuracy: 0.2450 - val_loss: 1.5985 - val_accuracy: 0.2462\n",
            "Epoch 5/150\n",
            "2603/2603 [==============================] - 15s 6ms/step - loss: 1.5964 - accuracy: 0.2465 - val_loss: 1.5973 - val_accuracy: 0.2412\n",
            "Epoch 6/150\n",
            "2603/2603 [==============================] - 16s 6ms/step - loss: 1.5961 - accuracy: 0.2466 - val_loss: 1.5968 - val_accuracy: 0.2472\n",
            "Epoch 7/150\n",
            "2603/2603 [==============================] - 15s 6ms/step - loss: 1.5948 - accuracy: 0.2448 - val_loss: 1.5950 - val_accuracy: 0.2468\n",
            "Epoch 8/150\n",
            "2603/2603 [==============================] - 15s 6ms/step - loss: 1.5926 - accuracy: 0.2527 - val_loss: 1.5936 - val_accuracy: 0.2503\n",
            "Epoch 9/150\n",
            "2603/2603 [==============================] - 15s 6ms/step - loss: 1.5917 - accuracy: 0.2543 - val_loss: 1.5915 - val_accuracy: 0.2544\n",
            "Epoch 10/150\n",
            "2603/2603 [==============================] - 15s 6ms/step - loss: 1.5881 - accuracy: 0.2579 - val_loss: 1.5893 - val_accuracy: 0.2611\n",
            "Epoch 11/150\n",
            "2603/2603 [==============================] - 15s 6ms/step - loss: 1.5866 - accuracy: 0.2605 - val_loss: 1.5850 - val_accuracy: 0.2648\n",
            "Epoch 12/150\n",
            "2603/2603 [==============================] - 16s 6ms/step - loss: 1.5812 - accuracy: 0.2710 - val_loss: 1.5792 - val_accuracy: 0.2743\n",
            "Epoch 13/150\n",
            "2603/2603 [==============================] - 15s 6ms/step - loss: 1.5755 - accuracy: 0.2760 - val_loss: 1.5700 - val_accuracy: 0.2888\n",
            "Epoch 14/150\n",
            "2603/2603 [==============================] - 15s 6ms/step - loss: 1.5624 - accuracy: 0.2949 - val_loss: 1.5540 - val_accuracy: 0.3064\n",
            "Epoch 15/150\n",
            "2603/2603 [==============================] - 15s 6ms/step - loss: 1.5450 - accuracy: 0.3073 - val_loss: 1.5310 - val_accuracy: 0.3149\n",
            "Epoch 16/150\n",
            "2603/2603 [==============================] - 15s 6ms/step - loss: 1.5177 - accuracy: 0.3282 - val_loss: 1.5123 - val_accuracy: 0.3219\n",
            "Epoch 17/150\n",
            "2603/2603 [==============================] - 15s 6ms/step - loss: 1.4858 - accuracy: 0.3430 - val_loss: 1.4737 - val_accuracy: 0.3440\n",
            "Epoch 18/150\n",
            "2603/2603 [==============================] - 15s 6ms/step - loss: 1.4585 - accuracy: 0.3540 - val_loss: 1.4463 - val_accuracy: 0.3564\n",
            "Epoch 19/150\n",
            "2603/2603 [==============================] - 15s 6ms/step - loss: 1.4279 - accuracy: 0.3634 - val_loss: 1.4235 - val_accuracy: 0.3668\n",
            "Epoch 20/150\n",
            "2603/2603 [==============================] - 15s 6ms/step - loss: 1.4010 - accuracy: 0.3754 - val_loss: 1.3972 - val_accuracy: 0.3770\n",
            "Epoch 21/150\n",
            "2603/2603 [==============================] - 15s 6ms/step - loss: 1.3798 - accuracy: 0.3828 - val_loss: 1.3824 - val_accuracy: 0.3801\n",
            "Epoch 22/150\n",
            "2603/2603 [==============================] - 15s 6ms/step - loss: 1.3632 - accuracy: 0.3888 - val_loss: 1.3679 - val_accuracy: 0.3889\n",
            "Epoch 23/150\n",
            "2603/2603 [==============================] - 15s 6ms/step - loss: 1.3454 - accuracy: 0.3967 - val_loss: 1.3546 - val_accuracy: 0.3916\n",
            "Epoch 24/150\n",
            "2603/2603 [==============================] - 15s 6ms/step - loss: 1.3298 - accuracy: 0.4016 - val_loss: 1.3397 - val_accuracy: 0.4006\n",
            "Epoch 25/150\n",
            "2603/2603 [==============================] - 15s 6ms/step - loss: 1.3180 - accuracy: 0.4064 - val_loss: 1.3297 - val_accuracy: 0.4033\n",
            "Epoch 26/150\n",
            "2603/2603 [==============================] - 15s 6ms/step - loss: 1.3061 - accuracy: 0.4146 - val_loss: 1.3179 - val_accuracy: 0.4089\n",
            "Epoch 27/150\n",
            "2603/2603 [==============================] - 15s 6ms/step - loss: 1.2981 - accuracy: 0.4148 - val_loss: 1.3223 - val_accuracy: 0.4105\n",
            "Epoch 28/150\n",
            "2603/2603 [==============================] - 15s 6ms/step - loss: 1.2866 - accuracy: 0.4215 - val_loss: 1.3147 - val_accuracy: 0.4104\n",
            "Epoch 29/150\n",
            "2603/2603 [==============================] - 15s 6ms/step - loss: 1.2824 - accuracy: 0.4204 - val_loss: 1.2999 - val_accuracy: 0.4176\n",
            "Epoch 30/150\n",
            "2603/2603 [==============================] - 15s 6ms/step - loss: 1.2717 - accuracy: 0.4280 - val_loss: 1.2902 - val_accuracy: 0.4211\n",
            "Epoch 31/150\n",
            "2603/2603 [==============================] - 15s 6ms/step - loss: 1.2615 - accuracy: 0.4322 - val_loss: 1.2856 - val_accuracy: 0.4221\n",
            "Epoch 32/150\n",
            "2603/2603 [==============================] - 15s 6ms/step - loss: 1.2573 - accuracy: 0.4346 - val_loss: 1.2765 - val_accuracy: 0.4279\n",
            "Epoch 33/150\n",
            "2603/2603 [==============================] - 15s 6ms/step - loss: 1.2463 - accuracy: 0.4409 - val_loss: 1.2720 - val_accuracy: 0.4290\n",
            "Epoch 34/150\n",
            "2603/2603 [==============================] - 15s 6ms/step - loss: 1.2439 - accuracy: 0.4380 - val_loss: 1.2664 - val_accuracy: 0.4326\n",
            "Epoch 35/150\n",
            "2603/2603 [==============================] - 15s 6ms/step - loss: 1.2391 - accuracy: 0.4391 - val_loss: 1.2802 - val_accuracy: 0.4272\n",
            "Epoch 36/150\n",
            "2603/2603 [==============================] - 15s 6ms/step - loss: 1.2300 - accuracy: 0.4457 - val_loss: 1.2824 - val_accuracy: 0.4249\n",
            "Epoch 37/150\n",
            "2603/2603 [==============================] - 15s 6ms/step - loss: 1.2256 - accuracy: 0.4494 - val_loss: 1.2534 - val_accuracy: 0.4382\n",
            "Epoch 38/150\n",
            "2603/2603 [==============================] - 15s 6ms/step - loss: 1.2239 - accuracy: 0.4484 - val_loss: 1.2555 - val_accuracy: 0.4384\n",
            "Epoch 39/150\n",
            "2603/2603 [==============================] - 15s 6ms/step - loss: 1.2180 - accuracy: 0.4506 - val_loss: 1.2668 - val_accuracy: 0.4342\n",
            "Epoch 40/150\n",
            "2603/2603 [==============================] - 15s 6ms/step - loss: 1.2143 - accuracy: 0.4534 - val_loss: 1.2428 - val_accuracy: 0.4424\n",
            "Epoch 41/150\n",
            "2603/2603 [==============================] - 15s 6ms/step - loss: 1.2058 - accuracy: 0.4568 - val_loss: 1.2399 - val_accuracy: 0.4442\n",
            "Epoch 42/150\n",
            "2603/2603 [==============================] - 15s 6ms/step - loss: 1.1934 - accuracy: 0.4672 - val_loss: 1.2365 - val_accuracy: 0.4452\n",
            "Epoch 43/150\n",
            "2603/2603 [==============================] - 15s 6ms/step - loss: 1.1983 - accuracy: 0.4648 - val_loss: 1.2534 - val_accuracy: 0.4413\n",
            "Epoch 44/150\n",
            "2603/2603 [==============================] - 15s 6ms/step - loss: 1.1911 - accuracy: 0.4644 - val_loss: 1.2363 - val_accuracy: 0.4476\n",
            "Epoch 45/150\n",
            "2603/2603 [==============================] - 15s 6ms/step - loss: 1.1859 - accuracy: 0.4705 - val_loss: 1.2249 - val_accuracy: 0.4529\n",
            "Epoch 46/150\n",
            "2603/2603 [==============================] - 15s 6ms/step - loss: 1.1814 - accuracy: 0.4714 - val_loss: 1.2221 - val_accuracy: 0.4531\n",
            "Epoch 47/150\n",
            "2603/2603 [==============================] - 15s 6ms/step - loss: 1.1768 - accuracy: 0.4761 - val_loss: 1.2402 - val_accuracy: 0.4485\n",
            "Epoch 48/150\n",
            "2603/2603 [==============================] - 15s 6ms/step - loss: 1.1791 - accuracy: 0.4752 - val_loss: 1.2152 - val_accuracy: 0.4566\n",
            "Epoch 49/150\n",
            "2603/2603 [==============================] - 15s 6ms/step - loss: 1.1692 - accuracy: 0.4787 - val_loss: 1.2125 - val_accuracy: 0.4589\n",
            "Epoch 50/150\n",
            "2603/2603 [==============================] - 15s 6ms/step - loss: 1.1650 - accuracy: 0.4823 - val_loss: 1.2137 - val_accuracy: 0.4627\n",
            "Epoch 51/150\n",
            "2603/2603 [==============================] - 15s 6ms/step - loss: 1.1611 - accuracy: 0.4812 - val_loss: 1.2155 - val_accuracy: 0.4602\n",
            "Epoch 52/150\n",
            "2603/2603 [==============================] - 15s 6ms/step - loss: 1.1591 - accuracy: 0.4862 - val_loss: 1.2029 - val_accuracy: 0.4673\n",
            "Epoch 53/150\n",
            "2603/2603 [==============================] - 15s 6ms/step - loss: 1.1508 - accuracy: 0.4900 - val_loss: 1.2010 - val_accuracy: 0.4682\n",
            "Epoch 54/150\n",
            "2603/2603 [==============================] - 15s 6ms/step - loss: 1.1399 - accuracy: 0.4948 - val_loss: 1.1988 - val_accuracy: 0.4676\n",
            "Epoch 55/150\n",
            "2603/2603 [==============================] - 15s 6ms/step - loss: 1.1417 - accuracy: 0.4975 - val_loss: 1.1946 - val_accuracy: 0.4701\n",
            "Epoch 56/150\n",
            "2603/2603 [==============================] - 15s 6ms/step - loss: 1.1354 - accuracy: 0.5002 - val_loss: 1.1953 - val_accuracy: 0.4694\n",
            "Epoch 57/150\n",
            "2603/2603 [==============================] - 15s 6ms/step - loss: 1.1346 - accuracy: 0.5003 - val_loss: 1.1937 - val_accuracy: 0.4712\n",
            "Epoch 58/150\n",
            "2603/2603 [==============================] - 15s 6ms/step - loss: 1.1319 - accuracy: 0.5006 - val_loss: 1.1874 - val_accuracy: 0.4764\n",
            "Epoch 59/150\n",
            "2603/2603 [==============================] - 16s 6ms/step - loss: 1.1293 - accuracy: 0.5046 - val_loss: 1.1842 - val_accuracy: 0.4795\n",
            "Epoch 60/150\n",
            "2603/2603 [==============================] - 16s 6ms/step - loss: 1.1186 - accuracy: 0.5086 - val_loss: 1.1897 - val_accuracy: 0.4804\n",
            "Epoch 61/150\n",
            "2603/2603 [==============================] - 16s 6ms/step - loss: 1.1163 - accuracy: 0.5125 - val_loss: 1.1780 - val_accuracy: 0.4852\n",
            "Epoch 62/150\n",
            "2603/2603 [==============================] - 15s 6ms/step - loss: 1.1110 - accuracy: 0.5152 - val_loss: 1.1790 - val_accuracy: 0.4835\n",
            "Epoch 63/150\n",
            "2603/2603 [==============================] - 16s 6ms/step - loss: 1.1107 - accuracy: 0.5145 - val_loss: 1.1869 - val_accuracy: 0.4829\n",
            "Epoch 64/150\n",
            "2603/2603 [==============================] - 16s 6ms/step - loss: 1.1055 - accuracy: 0.5164 - val_loss: 1.1720 - val_accuracy: 0.4887\n",
            "Epoch 65/150\n",
            "2603/2603 [==============================] - 16s 6ms/step - loss: 1.1008 - accuracy: 0.5212 - val_loss: 1.1705 - val_accuracy: 0.4909\n",
            "Epoch 66/150\n",
            "2603/2603 [==============================] - 16s 6ms/step - loss: 1.0954 - accuracy: 0.5184 - val_loss: 1.1691 - val_accuracy: 0.4909\n",
            "Epoch 67/150\n",
            "2603/2603 [==============================] - 16s 6ms/step - loss: 1.0941 - accuracy: 0.5258 - val_loss: 1.1754 - val_accuracy: 0.4892\n",
            "Epoch 68/150\n",
            "2603/2603 [==============================] - 16s 6ms/step - loss: 1.0908 - accuracy: 0.5241 - val_loss: 1.1646 - val_accuracy: 0.4945\n",
            "Epoch 69/150\n",
            "2603/2603 [==============================] - 15s 6ms/step - loss: 1.0894 - accuracy: 0.5247 - val_loss: 1.1650 - val_accuracy: 0.4957\n",
            "Epoch 70/150\n",
            "2603/2603 [==============================] - 16s 6ms/step - loss: 1.0843 - accuracy: 0.5289 - val_loss: 1.1636 - val_accuracy: 0.4961\n",
            "Epoch 71/150\n",
            "2603/2603 [==============================] - 15s 6ms/step - loss: 1.0791 - accuracy: 0.5299 - val_loss: 1.1578 - val_accuracy: 0.4983\n",
            "Epoch 72/150\n",
            "2603/2603 [==============================] - 15s 6ms/step - loss: 1.0761 - accuracy: 0.5327 - val_loss: 1.1561 - val_accuracy: 0.5005\n",
            "Epoch 73/150\n",
            "2603/2603 [==============================] - 15s 6ms/step - loss: 1.0751 - accuracy: 0.5325 - val_loss: 1.1600 - val_accuracy: 0.4945\n",
            "Epoch 74/150\n",
            "2603/2603 [==============================] - 15s 6ms/step - loss: 1.0700 - accuracy: 0.5355 - val_loss: 1.1544 - val_accuracy: 0.5025\n",
            "Epoch 75/150\n",
            "2603/2603 [==============================] - 15s 6ms/step - loss: 1.0673 - accuracy: 0.5364 - val_loss: 1.1549 - val_accuracy: 0.5021\n",
            "Epoch 76/150\n",
            "2603/2603 [==============================] - 15s 6ms/step - loss: 1.0576 - accuracy: 0.5413 - val_loss: 1.1541 - val_accuracy: 0.5006\n",
            "Epoch 77/150\n",
            "2603/2603 [==============================] - 15s 6ms/step - loss: 1.0621 - accuracy: 0.5380 - val_loss: 1.1502 - val_accuracy: 0.5057\n",
            "Epoch 78/150\n",
            "2603/2603 [==============================] - 15s 6ms/step - loss: 1.0593 - accuracy: 0.5423 - val_loss: 1.1482 - val_accuracy: 0.5070\n",
            "Epoch 79/150\n",
            "2603/2603 [==============================] - 15s 6ms/step - loss: 1.0572 - accuracy: 0.5440 - val_loss: 1.1636 - val_accuracy: 0.4969\n",
            "Epoch 80/150\n",
            "2603/2603 [==============================] - 15s 6ms/step - loss: 1.0529 - accuracy: 0.5463 - val_loss: 1.1461 - val_accuracy: 0.5065\n",
            "Epoch 81/150\n",
            "2603/2603 [==============================] - 15s 6ms/step - loss: 1.0518 - accuracy: 0.5446 - val_loss: 1.1488 - val_accuracy: 0.5088\n",
            "Epoch 82/150\n",
            "2603/2603 [==============================] - 15s 6ms/step - loss: 1.0461 - accuracy: 0.5477 - val_loss: 1.1485 - val_accuracy: 0.5096\n",
            "Epoch 83/150\n",
            "2603/2603 [==============================] - 15s 6ms/step - loss: 1.0443 - accuracy: 0.5481 - val_loss: 1.1466 - val_accuracy: 0.5074\n",
            "Epoch 84/150\n",
            "2603/2603 [==============================] - 15s 6ms/step - loss: 1.0389 - accuracy: 0.5516 - val_loss: 1.1433 - val_accuracy: 0.5118\n",
            "Epoch 85/150\n",
            "2603/2603 [==============================] - 16s 6ms/step - loss: 1.0424 - accuracy: 0.5510 - val_loss: 1.1429 - val_accuracy: 0.5125\n",
            "Epoch 86/150\n",
            "2603/2603 [==============================] - 15s 6ms/step - loss: 1.0393 - accuracy: 0.5506 - val_loss: 1.1408 - val_accuracy: 0.5128\n",
            "Epoch 87/150\n",
            "2603/2603 [==============================] - 15s 6ms/step - loss: 1.0334 - accuracy: 0.5536 - val_loss: 1.1405 - val_accuracy: 0.5149\n",
            "Epoch 88/150\n",
            "2603/2603 [==============================] - 15s 6ms/step - loss: 1.0309 - accuracy: 0.5575 - val_loss: 1.1373 - val_accuracy: 0.5154\n",
            "Epoch 89/150\n",
            "2603/2603 [==============================] - 15s 6ms/step - loss: 1.0319 - accuracy: 0.5548 - val_loss: 1.1366 - val_accuracy: 0.5160\n",
            "Epoch 90/150\n",
            "2603/2603 [==============================] - 15s 6ms/step - loss: 1.0255 - accuracy: 0.5610 - val_loss: 1.1391 - val_accuracy: 0.5160\n",
            "Epoch 91/150\n",
            "2603/2603 [==============================] - 15s 6ms/step - loss: 1.0186 - accuracy: 0.5593 - val_loss: 1.1368 - val_accuracy: 0.5158\n",
            "Epoch 92/150\n",
            "2603/2603 [==============================] - 15s 6ms/step - loss: 1.0224 - accuracy: 0.5611 - val_loss: 1.1362 - val_accuracy: 0.5161\n",
            "Epoch 93/150\n",
            "2603/2603 [==============================] - 15s 6ms/step - loss: 1.0182 - accuracy: 0.5651 - val_loss: 1.1354 - val_accuracy: 0.5172\n",
            "Epoch 94/150\n",
            "2603/2603 [==============================] - 15s 6ms/step - loss: 1.0144 - accuracy: 0.5651 - val_loss: 1.1346 - val_accuracy: 0.5182\n",
            "Epoch 95/150\n",
            "2603/2603 [==============================] - 15s 6ms/step - loss: 1.0171 - accuracy: 0.5646 - val_loss: 1.1372 - val_accuracy: 0.5157\n",
            "Epoch 96/150\n",
            "2603/2603 [==============================] - 15s 6ms/step - loss: 1.0117 - accuracy: 0.5667 - val_loss: 1.1312 - val_accuracy: 0.5201\n",
            "Epoch 97/150\n",
            "2603/2603 [==============================] - 15s 6ms/step - loss: 1.0071 - accuracy: 0.5690 - val_loss: 1.1507 - val_accuracy: 0.5172\n",
            "Epoch 98/150\n",
            "2603/2603 [==============================] - 15s 6ms/step - loss: 1.0036 - accuracy: 0.5709 - val_loss: 1.1472 - val_accuracy: 0.5141\n",
            "Epoch 99/150\n",
            "2603/2603 [==============================] - 15s 6ms/step - loss: 1.0028 - accuracy: 0.5713 - val_loss: 1.1431 - val_accuracy: 0.5187\n",
            "Epoch 100/150\n",
            "2603/2603 [==============================] - 15s 6ms/step - loss: 1.0035 - accuracy: 0.5665 - val_loss: 1.1294 - val_accuracy: 0.5212\n",
            "Epoch 101/150\n",
            "2603/2603 [==============================] - 16s 6ms/step - loss: 0.9956 - accuracy: 0.5744 - val_loss: 1.1291 - val_accuracy: 0.5228\n",
            "Epoch 102/150\n",
            "2603/2603 [==============================] - 16s 6ms/step - loss: 0.9956 - accuracy: 0.5741 - val_loss: 1.1339 - val_accuracy: 0.5232\n",
            "Epoch 103/150\n",
            "2603/2603 [==============================] - 16s 6ms/step - loss: 0.9898 - accuracy: 0.5786 - val_loss: 1.1412 - val_accuracy: 0.5214\n",
            "Epoch 104/150\n",
            "2603/2603 [==============================] - 16s 6ms/step - loss: 0.9889 - accuracy: 0.5782 - val_loss: 1.1324 - val_accuracy: 0.5213\n",
            "Epoch 105/150\n",
            "2603/2603 [==============================] - 16s 6ms/step - loss: 0.9880 - accuracy: 0.5790 - val_loss: 1.1295 - val_accuracy: 0.5245\n",
            "Epoch 106/150\n",
            "2603/2603 [==============================] - 16s 6ms/step - loss: 0.9841 - accuracy: 0.5805 - val_loss: 1.1359 - val_accuracy: 0.5260\n",
            "Epoch 107/150\n",
            "2603/2603 [==============================] - 16s 6ms/step - loss: 0.9867 - accuracy: 0.5802 - val_loss: 1.1274 - val_accuracy: 0.5267\n",
            "Epoch 108/150\n",
            "2603/2603 [==============================] - 15s 6ms/step - loss: 0.9790 - accuracy: 0.5841 - val_loss: 1.1294 - val_accuracy: 0.5243\n",
            "Epoch 109/150\n",
            "2603/2603 [==============================] - 15s 6ms/step - loss: 0.9756 - accuracy: 0.5870 - val_loss: 1.1262 - val_accuracy: 0.5276\n",
            "Epoch 110/150\n",
            "2603/2603 [==============================] - 16s 6ms/step - loss: 0.9757 - accuracy: 0.5850 - val_loss: 1.1299 - val_accuracy: 0.5294\n",
            "Epoch 111/150\n",
            "2603/2603 [==============================] - 16s 6ms/step - loss: 0.9707 - accuracy: 0.5881 - val_loss: 1.1268 - val_accuracy: 0.5284\n",
            "Epoch 112/150\n",
            "2603/2603 [==============================] - 15s 6ms/step - loss: 0.9733 - accuracy: 0.5838 - val_loss: 1.1286 - val_accuracy: 0.5273\n",
            "Epoch 113/150\n",
            "2603/2603 [==============================] - 15s 6ms/step - loss: 0.9720 - accuracy: 0.5874 - val_loss: 1.1256 - val_accuracy: 0.5297\n",
            "Epoch 114/150\n",
            "2603/2603 [==============================] - 15s 6ms/step - loss: 0.9664 - accuracy: 0.5918 - val_loss: 1.1286 - val_accuracy: 0.5309\n",
            "Epoch 115/150\n",
            "2603/2603 [==============================] - 16s 6ms/step - loss: 0.9626 - accuracy: 0.5937 - val_loss: 1.1258 - val_accuracy: 0.5302\n",
            "Epoch 116/150\n",
            "2603/2603 [==============================] - 15s 6ms/step - loss: 0.9657 - accuracy: 0.5924 - val_loss: 1.1328 - val_accuracy: 0.5273\n",
            "Epoch 117/150\n",
            "2603/2603 [==============================] - 15s 6ms/step - loss: 0.9603 - accuracy: 0.5937 - val_loss: 1.1259 - val_accuracy: 0.5298\n",
            "Epoch 118/150\n",
            "2603/2603 [==============================] - 15s 6ms/step - loss: 0.9592 - accuracy: 0.5950 - val_loss: 1.1431 - val_accuracy: 0.5238\n",
            "Epoch 119/150\n",
            "2603/2603 [==============================] - 16s 6ms/step - loss: 0.9547 - accuracy: 0.5976 - val_loss: 1.1398 - val_accuracy: 0.5237\n",
            "Epoch 120/150\n",
            "2603/2603 [==============================] - 15s 6ms/step - loss: 0.9520 - accuracy: 0.5980 - val_loss: 1.1297 - val_accuracy: 0.5317\n",
            "Epoch 121/150\n",
            "2603/2603 [==============================] - 15s 6ms/step - loss: 0.9525 - accuracy: 0.5983 - val_loss: 1.1249 - val_accuracy: 0.5319\n",
            "Epoch 122/150\n",
            "2603/2603 [==============================] - 15s 6ms/step - loss: 0.9535 - accuracy: 0.5970 - val_loss: 1.1270 - val_accuracy: 0.5339\n",
            "Epoch 123/150\n",
            "2603/2603 [==============================] - 15s 6ms/step - loss: 0.9504 - accuracy: 0.6006 - val_loss: 1.1249 - val_accuracy: 0.5334\n",
            "Epoch 124/150\n",
            "2603/2603 [==============================] - 15s 6ms/step - loss: 0.9474 - accuracy: 0.5997 - val_loss: 1.1243 - val_accuracy: 0.5334\n",
            "Epoch 125/150\n",
            "2603/2603 [==============================] - 16s 6ms/step - loss: 0.9438 - accuracy: 0.6038 - val_loss: 1.1303 - val_accuracy: 0.5339\n",
            "Epoch 126/150\n",
            "2603/2603 [==============================] - 15s 6ms/step - loss: 0.9463 - accuracy: 0.5991 - val_loss: 1.1315 - val_accuracy: 0.5314\n",
            "Epoch 127/150\n",
            "2603/2603 [==============================] - 16s 6ms/step - loss: 0.9420 - accuracy: 0.6049 - val_loss: 1.1296 - val_accuracy: 0.5331\n",
            "Epoch 128/150\n",
            "2603/2603 [==============================] - 15s 6ms/step - loss: 0.9412 - accuracy: 0.6060 - val_loss: 1.1245 - val_accuracy: 0.5359\n",
            "Epoch 129/150\n",
            "2603/2603 [==============================] - 15s 6ms/step - loss: 0.9382 - accuracy: 0.6069 - val_loss: 1.1244 - val_accuracy: 0.5349\n",
            "Epoch 130/150\n",
            "2603/2603 [==============================] - 15s 6ms/step - loss: 0.9342 - accuracy: 0.6085 - val_loss: 1.1297 - val_accuracy: 0.5360\n",
            "Epoch 131/150\n",
            "2603/2603 [==============================] - 15s 6ms/step - loss: 0.9318 - accuracy: 0.6087 - val_loss: 1.1262 - val_accuracy: 0.5365\n",
            "Epoch 132/150\n",
            "2603/2603 [==============================] - 15s 6ms/step - loss: 0.9335 - accuracy: 0.6107 - val_loss: 1.1270 - val_accuracy: 0.5374\n",
            "Epoch 133/150\n",
            "2603/2603 [==============================] - 15s 6ms/step - loss: 0.9293 - accuracy: 0.6094 - val_loss: 1.1276 - val_accuracy: 0.5376\n",
            "Epoch 134/150\n",
            "2603/2603 [==============================] - 15s 6ms/step - loss: 0.9254 - accuracy: 0.6130 - val_loss: 1.1310 - val_accuracy: 0.5349\n",
            "Epoch 135/150\n",
            "2603/2603 [==============================] - 15s 6ms/step - loss: 0.9286 - accuracy: 0.6129 - val_loss: 1.1287 - val_accuracy: 0.5379\n",
            "Epoch 136/150\n",
            "2603/2603 [==============================] - 16s 6ms/step - loss: 0.9225 - accuracy: 0.6142 - val_loss: 1.1289 - val_accuracy: 0.5377\n",
            "Epoch 137/150\n",
            "2603/2603 [==============================] - 15s 6ms/step - loss: 0.9219 - accuracy: 0.6139 - val_loss: 1.1271 - val_accuracy: 0.5396\n",
            "Epoch 138/150\n",
            "2603/2603 [==============================] - 15s 6ms/step - loss: 0.9185 - accuracy: 0.6176 - val_loss: 1.1282 - val_accuracy: 0.5384\n",
            "Epoch 139/150\n",
            "2603/2603 [==============================] - 15s 6ms/step - loss: 0.9171 - accuracy: 0.6206 - val_loss: 1.1353 - val_accuracy: 0.5370\n",
            "Epoch 140/150\n",
            "2603/2603 [==============================] - 16s 6ms/step - loss: 0.9115 - accuracy: 0.6221 - val_loss: 1.1272 - val_accuracy: 0.5408\n",
            "Epoch 141/150\n",
            "2603/2603 [==============================] - 15s 6ms/step - loss: 0.9148 - accuracy: 0.6180 - val_loss: 1.1334 - val_accuracy: 0.5372\n",
            "Epoch 142/150\n",
            "2603/2603 [==============================] - 15s 6ms/step - loss: 0.9128 - accuracy: 0.6221 - val_loss: 1.1323 - val_accuracy: 0.5398\n",
            "Epoch 143/150\n",
            "2603/2603 [==============================] - 16s 6ms/step - loss: 0.9144 - accuracy: 0.6197 - val_loss: 1.1324 - val_accuracy: 0.5393\n",
            "Epoch 144/150\n",
            "2603/2603 [==============================] - 15s 6ms/step - loss: 0.9108 - accuracy: 0.6200 - val_loss: 1.1349 - val_accuracy: 0.5377\n",
            "Epoch 145/150\n",
            "2603/2603 [==============================] - 16s 6ms/step - loss: 0.9082 - accuracy: 0.6251 - val_loss: 1.1299 - val_accuracy: 0.5410\n",
            "Epoch 146/150\n",
            "2603/2603 [==============================] - 16s 6ms/step - loss: 0.9083 - accuracy: 0.6208 - val_loss: 1.1292 - val_accuracy: 0.5428\n",
            "Epoch 147/150\n",
            "2603/2603 [==============================] - 15s 6ms/step - loss: 0.9004 - accuracy: 0.6295 - val_loss: 1.1312 - val_accuracy: 0.5411\n",
            "Epoch 148/150\n",
            "2603/2603 [==============================] - 15s 6ms/step - loss: 0.9001 - accuracy: 0.6259 - val_loss: 1.1319 - val_accuracy: 0.5416\n",
            "Epoch 149/150\n",
            "2603/2603 [==============================] - 15s 6ms/step - loss: 0.8972 - accuracy: 0.6289 - val_loss: 1.1428 - val_accuracy: 0.5367\n",
            "Epoch 150/150\n",
            "2603/2603 [==============================] - 15s 6ms/step - loss: 0.8975 - accuracy: 0.6287 - val_loss: 1.1477 - val_accuracy: 0.5353\n"
          ],
          "name": "stdout"
        }
      ]
    },
    {
      "cell_type": "code",
      "metadata": {
        "colab": {
          "base_uri": "https://localhost:8080/"
        },
        "id": "6qWUASUqjOgS",
        "outputId": "31170744-be66-4c4f-e7d9-4af41c061352"
      },
      "source": [
        "actual_loss, actual_acc = model.evaluate(X_train, y_train)\n",
        "test_loss, test_acc = model.evaluate(X_test, y_test)\n",
        "print(\"trainning accuracy: %f \" % actual_acc)\n",
        "print(\"testing accuracy: %f \" % test_acc)"
      ],
      "execution_count": null,
      "outputs": [
        {
          "output_type": "stream",
          "text": [
            "3253/3253 [==============================] - 10s 3ms/step - loss: 0.9579 - accuracy: 0.6006\n",
            "814/814 [==============================] - 2s 3ms/step - loss: 1.1495 - accuracy: 0.5321\n",
            "trainning accuracy: 0.600649 \n",
            "testing accuracy: 0.532070 \n"
          ],
          "name": "stdout"
        }
      ]
    },
    {
      "cell_type": "code",
      "metadata": {
        "colab": {
          "base_uri": "https://localhost:8080/",
          "height": 265
        },
        "id": "4Lg5m291jVYt",
        "outputId": "77bcee1a-0fce-4123-c525-c2e09ce1dd7f"
      },
      "source": [
        "plt.plot(history.history['accuracy'], label='train')\n",
        "plt.plot(history.history['val_accuracy'], label='test')\n",
        "plt.legend()\n",
        "plt.show()"
      ],
      "execution_count": null,
      "outputs": [
        {
          "output_type": "display_data",
          "data": {
            "image/png": "[encoded data removed]",
            "text/plain": [
              "<Figure size 432x288 with 1 Axes>"
            ]
          },
          "metadata": {
            "tags": [],
            "needs_background": "light"
          }
        }
      ]
    }
  ]
}